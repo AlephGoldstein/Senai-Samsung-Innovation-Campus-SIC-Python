{
 "cells": [
  {
   "cell_type": "code",
   "execution_count": null,
   "metadata": {},
   "outputs": [],
   "source": [
    "game_score = int(input('Qual sua pontuação? '))\n",
    "if(game_score > 1000):\n",
    "    print('Parabéns, você é um(a) mestre(a)!')\n",
    "else:\n",
    "    print('Você precisa treinar mais!')"
   ]
  }
 ],
 "metadata": {
  "language_info": {
   "name": "python"
  }
 },
 "nbformat": 4,
 "nbformat_minor": 2
}

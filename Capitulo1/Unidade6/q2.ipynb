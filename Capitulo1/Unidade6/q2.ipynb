{
 "cells": [
  {
   "cell_type": "code",
   "execution_count": null,
   "metadata": {},
   "outputs": [],
   "source": [
    "n = int(input('Digite um numero'))\n",
    "if n < 100 & n > -100:\n",
    "    if n > -100:\n",
    "        print(f'O numero digitado {n} é positivo')\n",
    "    else:\n",
    "        print(f'O numero digitado {n} é negativo')\n",
    "else:\n",
    "    print(f'O numero digitado {n} é inválido')"
   ]
  }
 ],
 "metadata": {
  "language_info": {
   "name": "python"
  }
 },
 "nbformat": 4,
 "nbformat_minor": 2
}

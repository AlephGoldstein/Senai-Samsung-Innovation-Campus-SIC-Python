{
 "cells": [
  {
   "cell_type": "code",
   "execution_count": null,
   "metadata": {},
   "outputs": [],
   "source": [
    "idade = int(input('Qual a sua idade? '))\n",
    "\n",
    "if idade >= 20:\n",
    "    print('Você é um adulto!')\n",
    "elif idade > 15 & idade < 20:\n",
    "    print('Você é um Jovem!')\n",
    "elif idade > 12 & idade < 15:\n",
    "    print('Você é um adolecente!')\n",
    "else:\n",
    "    print('Você é uma criança!')"
   ]
  }
 ],
 "metadata": {
  "language_info": {
   "name": "python"
  }
 },
 "nbformat": 4,
 "nbformat_minor": 2
}

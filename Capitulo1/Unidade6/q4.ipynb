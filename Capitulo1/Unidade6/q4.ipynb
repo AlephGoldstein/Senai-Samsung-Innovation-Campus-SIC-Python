{
 "cells": [
  {
   "cell_type": "code",
   "execution_count": null,
   "metadata": {},
   "outputs": [],
   "source": [
    "Altura = float(input('Digite sua altura: '))\n",
    "Idade = int(input(\"Digite sua Idade: \"))\n",
    "\n",
    "if Altura >= 1.50 and Idade >= 16:\n",
    "    print('Você não pode entrar na piscina de bolinhas')\n",
    "else:\n",
    "    print('Você pode entrar na piscina de bolinhas')"
   ]
  }
 ],
 "metadata": {
  "language_info": {
   "name": "python"
  }
 },
 "nbformat": 4,
 "nbformat_minor": 2
}

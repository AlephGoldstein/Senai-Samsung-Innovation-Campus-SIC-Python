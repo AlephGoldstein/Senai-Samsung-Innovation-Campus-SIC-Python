{
 "cells": [
  {
   "cell_type": "code",
   "execution_count": 3,
   "metadata": {},
   "outputs": [
    {
     "name": "stdout",
     "output_type": "stream",
     "text": [
      "O numero é multiplo\n"
     ]
    }
   ],
   "source": [
    "def Ismultiple():\n",
    "    a = int(input(\"Digite o numero averiguado:\"))\n",
    "    b = int(input(\"Digite o numero base:\"))   \n",
    "    if a % b == 0:\n",
    "        print(\"O numero é multiplo\")\n",
    "    else:\n",
    "        print(\"O numero não é multiplo\")\n",
    "Ismultiple()"
   ]
  }
 ],
 "metadata": {
  "kernelspec": {
   "display_name": "Python 3",
   "language": "python",
   "name": "python3"
  },
  "language_info": {
   "codemirror_mode": {
    "name": "ipython",
    "version": 3
   },
   "file_extension": ".py",
   "mimetype": "text/x-python",
   "name": "python",
   "nbconvert_exporter": "python",
   "pygments_lexer": "ipython3",
   "version": "3.10.4"
  }
 },
 "nbformat": 4,
 "nbformat_minor": 2
}

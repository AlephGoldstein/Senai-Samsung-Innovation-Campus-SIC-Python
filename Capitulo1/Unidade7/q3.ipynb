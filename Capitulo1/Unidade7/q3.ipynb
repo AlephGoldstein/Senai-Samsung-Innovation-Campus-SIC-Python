{
 "cells": [
  {
   "cell_type": "code",
   "execution_count": 6,
   "metadata": {},
   "outputs": [
    {
     "name": "stdout",
     "output_type": "stream",
     "text": [
      "Não é permitido usar  numeros alem de 1,2,3 e 4\n"
     ]
    }
   ],
   "source": [
    "a = int(input('Digite um numero:'))\n",
    "b = int(input('Digite outro numero:'))\n",
    "dont = [1,2,3,4]\n",
    "if a in dont and b in dont:\n",
    "    print(f\"a + b = {a+b} ; a - b = {a-b}; a / b = {a/b}; a*b = {a*b} \")\n",
    "else:\n",
    "    print('Não é permitido usar numeros além de 1,2,3 e 4')"
   ]
  },
  {
   "cell_type": "code",
   "execution_count": null,
   "metadata": {},
   "outputs": [],
   "source": []
  }
 ],
 "metadata": {
  "kernelspec": {
   "display_name": "Python 3",
   "language": "python",
   "name": "python3"
  },
  "language_info": {
   "codemirror_mode": {
    "name": "ipython",
    "version": 3
   },
   "file_extension": ".py",
   "mimetype": "text/x-python",
   "name": "python",
   "nbconvert_exporter": "python",
   "pygments_lexer": "ipython3",
   "version": "3.10.4"
  }
 },
 "nbformat": 4,
 "nbformat_minor": 2
}

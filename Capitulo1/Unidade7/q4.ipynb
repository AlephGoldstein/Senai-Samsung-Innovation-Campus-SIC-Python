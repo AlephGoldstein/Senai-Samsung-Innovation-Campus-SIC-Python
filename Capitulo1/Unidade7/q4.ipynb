{
 "cells": [
  {
   "cell_type": "code",
   "execution_count": 1,
   "metadata": {},
   "outputs": [
    {
     "name": "stdout",
     "output_type": "stream",
     "text": [
      "O ponto está no 2º quadrante\n"
     ]
    }
   ],
   "source": [
    "def axisXY():\n",
    "    x = int(input(\"Digite a posição x:\"))\n",
    "    y = int(input(\"Digite a posição y:\"))\n",
    "    if x < 0 and y > 0:\n",
    "        print(\"O ponto está no 2º quadrante\")\n",
    "    elif x > 0 and y < 0:\n",
    "        print(\"O ponto está no 4º quadrante\")\n",
    "    elif x > 0 and y > 0:\n",
    "        print(\"O ponto está no 1º quadrante\")\n",
    "    else:\n",
    "        print(\"O ponto está no 3º quadrante\")\n",
    "axisXY()"
   ]
  }
 ],
 "metadata": {
  "kernelspec": {
   "display_name": "Python 3",
   "language": "python",
   "name": "python3"
  },
  "language_info": {
   "codemirror_mode": {
    "name": "ipython",
    "version": 3
   },
   "file_extension": ".py",
   "mimetype": "text/x-python",
   "name": "python",
   "nbconvert_exporter": "python",
   "pygments_lexer": "ipython3",
   "version": "3.10.4"
  }
 },
 "nbformat": 4,
 "nbformat_minor": 2
}

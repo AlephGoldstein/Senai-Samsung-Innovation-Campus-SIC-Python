{
 "cells": [
  {
   "cell_type": "code",
   "execution_count": null,
   "metadata": {},
   "outputs": [],
   "source": [
    "def axisXY():\n",
    "    x = int(input(\"Digite a posição x:\"))\n",
    "    y = int(input(\"Digite a posição y:\"))\n",
    "    if x < 0 and y > 0:\n",
    "        print(\"O ponto está no 2º quadrante\")\n",
    "    elif x > 0 and y < 0:\n",
    "        print(\"O ponto está no 4º quadrante\")\n",
    "    elif x > 0 and y > 0:\n",
    "        print(\"O ponto está no 1º quadrante\")\n",
    "    else:\n",
    "        print(\"O ponto está no 3º quadrante\")\n",
    "axisXY()"
   ]
  }
 ],
 "metadata": {
  "language_info": {
   "name": "python"
  }
 },
 "nbformat": 4,
 "nbformat_minor": 2
}

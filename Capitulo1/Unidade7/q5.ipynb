{
 "cells": [
  {
   "cell_type": "code",
   "execution_count": null,
   "metadata": {},
   "outputs": [],
   "source": [
    "def YummyFood():\n",
    "    foodLetter = str(input(\"Bem-vindo a um delicioso restaurante.aqui está o cardápio:\"\n",
    "    \"Hamburguer(digite H), Frango(digite F), Pizza (digite P)\"))\n",
    "    if foodLetter == \"H\":\n",
    "        print(\"Você escolheu Hamburguer\")\n",
    "    elif foodLetter == \"F\":\n",
    "        print(\"Você escolheu Frango\")\n",
    "    else:\n",
    "        print(\"Você escolheu Pizza\")\n",
    "YummyFood()\n",
    "\n"
   ]
  },
  {
   "cell_type": "code",
   "execution_count": null,
   "metadata": {},
   "outputs": [],
   "source": []
  }
 ],
 "metadata": {
  "language_info": {
   "name": "python"
  }
 },
 "nbformat": 4,
 "nbformat_minor": 2
}

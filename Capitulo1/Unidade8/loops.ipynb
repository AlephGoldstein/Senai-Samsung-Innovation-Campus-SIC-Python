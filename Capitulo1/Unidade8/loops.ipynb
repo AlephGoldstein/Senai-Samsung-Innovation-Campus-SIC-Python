{
 "cells": [
  {
   "cell_type": "code",
   "execution_count": 10,
   "metadata": {},
   "outputs": [
    {
     "name": "stdout",
     "output_type": "stream",
     "text": [
      "Ohayoo\n",
      "Ohayoo\n",
      "Ohayoo\n",
      "Ohayoo\n",
      "Ohayoo\n",
      "[0, 2, 4, 6]\n",
      "12\n"
     ]
    }
   ],
   "source": [
    "for i in range(0,5):\n",
    "    print(\"Ohayoo\")\n",
    "print(list(range(0,8,2))) \n",
    "print(sum(list(range(0,8,2))))"
   ]
  },
  {
   "cell_type": "code",
   "execution_count": 19,
   "metadata": {},
   "outputs": [
    {
     "name": "stdout",
     "output_type": "stream",
     "text": [
      "H|e|l|l|o|A--B--C\n",
      "A B C--"
     ]
    }
   ],
   "source": [
    "for ch in \"Hello\":\n",
    "    print(ch, end=\"|\")\n",
    "print(\"A\",\"B\",\"C\", sep=\"--\")\n",
    "print(\"A\",\"B\",\"C\", end=\"--\")"
   ]
  }
 ],
 "metadata": {
  "kernelspec": {
   "display_name": "Python 3",
   "language": "python",
   "name": "python3"
  },
  "language_info": {
   "codemirror_mode": {
    "name": "ipython",
    "version": 3
   },
   "file_extension": ".py",
   "mimetype": "text/x-python",
   "name": "python",
   "nbconvert_exporter": "python",
   "pygments_lexer": "ipython3",
   "version": "3.10.4"
  }
 },
 "nbformat": 4,
 "nbformat_minor": 2
}

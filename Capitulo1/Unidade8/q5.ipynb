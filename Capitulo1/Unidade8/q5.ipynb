{
 "cells": [
  {
   "cell_type": "code",
   "execution_count": 16,
   "metadata": {},
   "outputs": [
    {
     "name": "stdout",
     "output_type": "stream",
     "text": [
      "[[1, 2, 3, 4, 5], [10, 9, 8, 7, 6], [11, 12, 13, 14, 15], [20, 19, 18, 17, 16], [21, 22, 23, 24, 25]]\n"
     ]
    }
   ],
   "source": [
    "def assentos():\n",
    "    n = int(input(\"Digite o valor de entrada\"))\n",
    "    matrix = [[0]*n for s in range(n)]\n",
    "    num = 1\n",
    "    for i in range(n):\n",
    "        if i % 2 == 0:\n",
    "            for j in range(n):\n",
    "                matrix[i][j] = num\n",
    "                num += 1\n",
    "        else:\n",
    "            for j in range(n-1, -1, -1):\n",
    "                matrix[i][j] = num\n",
    "                num += 1\n",
    "    print(matrix)\n",
    "assentos()"
   ]
  }
 ],
 "metadata": {
  "kernelspec": {
   "display_name": "Python 3",
   "language": "python",
   "name": "python3"
  },
  "language_info": {
   "codemirror_mode": {
    "name": "ipython",
    "version": 3
   },
   "file_extension": ".py",
   "mimetype": "text/x-python",
   "name": "python",
   "nbconvert_exporter": "python",
   "pygments_lexer": "ipython3",
   "version": "3.10.4"
  }
 },
 "nbformat": 4,
 "nbformat_minor": 2
}

{
 "cells": [
  {
   "cell_type": "code",
   "execution_count": null,
   "metadata": {},
   "outputs": [],
   "source": [
    "def Palindrome():\n",
    "    num = int(input(\"Digite um numero: \"))\n",
    "    if num == int(str(num)[::-1]):\n",
    "        print(\"O numero é palindromo\")\n",
    "    else:\n",
    "        print(\"O numero não é palindromo\")\n",
    "Palindrome()"
   ]
  }
 ],
 "metadata": {
  "language_info": {
   "name": "python"
  }
 },
 "nbformat": 4,
 "nbformat_minor": 2
}

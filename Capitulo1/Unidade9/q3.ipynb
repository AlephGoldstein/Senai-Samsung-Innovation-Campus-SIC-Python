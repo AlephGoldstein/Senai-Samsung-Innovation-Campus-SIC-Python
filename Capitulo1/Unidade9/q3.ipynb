{
 "cells": [
  {
   "cell_type": "code",
   "execution_count": 5,
   "metadata": {},
   "outputs": [
    {
     "name": "stdout",
     "output_type": "stream",
     "text": [
      "O numero é palindromo\n"
     ]
    }
   ],
   "source": [
    "def Palindrome():\n",
    "    num = int(input(\"Digite um numero: \"))\n",
    "    if num == int(str(num)[::-1]):\n",
    "        print(\"O numero é palindromo\")\n",
    "    else:\n",
    "        print(\"O numero não é palindromo\")\n",
    "Palindrome()"
   ]
  }
 ],
 "metadata": {
  "kernelspec": {
   "display_name": "Python 3",
   "language": "python",
   "name": "python3"
  },
  "language_info": {
   "codemirror_mode": {
    "name": "ipython",
    "version": 3
   },
   "file_extension": ".py",
   "mimetype": "text/x-python",
   "name": "python",
   "nbconvert_exporter": "python",
   "pygments_lexer": "ipython3",
   "version": "3.10.4"
  }
 },
 "nbformat": 4,
 "nbformat_minor": 2
}

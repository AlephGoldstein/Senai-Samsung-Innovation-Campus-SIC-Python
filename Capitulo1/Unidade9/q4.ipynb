{
 "cells": [
  {
   "cell_type": "code",
   "execution_count": 5,
   "metadata": {},
   "outputs": [
    {
     "name": "stdout",
     "output_type": "stream",
     "text": [
      "muito baixo\n",
      "muito baixo\n",
      "muito baixo\n",
      "muito baixo\n",
      "Parabens, voce acertou o numero\n"
     ]
    }
   ],
   "source": [
    "import random\n",
    "numPc = random.randint(1,100)\n",
    "numUser = 0\n",
    "while numUser != numPc:\n",
    "    numUser = int(input(\"Digite um numero: \"))\n",
    "    if numUser > numPc:\n",
    "        print(\"muito alto\")\n",
    "    elif numUser < numPc:\n",
    "        print(\"muito baixo\")\n",
    "    else:\n",
    "        print(\"Parabens, voce acertou o numero\")\n",
    "        break"
   ]
  },
  {
   "cell_type": "code",
   "execution_count": null,
   "metadata": {},
   "outputs": [],
   "source": [
    "numUser = int(input(\"Digite um numero: \"))"
   ]
  }
 ],
 "metadata": {
  "kernelspec": {
   "display_name": "Python 3",
   "language": "python",
   "name": "python3"
  },
  "language_info": {
   "codemirror_mode": {
    "name": "ipython",
    "version": 3
   },
   "file_extension": ".py",
   "mimetype": "text/x-python",
   "name": "python",
   "nbconvert_exporter": "python",
   "pygments_lexer": "ipython3",
   "version": "3.10.4"
  }
 },
 "nbformat": 4,
 "nbformat_minor": 2
}

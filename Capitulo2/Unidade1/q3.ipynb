{
 "cells": [
  {
   "cell_type": "code",
   "execution_count": 3,
   "metadata": {},
   "outputs": [
    {
     "name": "stdout",
     "output_type": "stream",
     "text": [
      "3 x 2 = 6\n",
      "5 x 2 = 10\n",
      "7 x 2 = 14\n",
      "3 x 3 = 9\n",
      "5 x 3 = 15\n",
      "7 x 3 = 21\n",
      "3 x 4 = 12\n",
      "5 x 4 = 20\n",
      "7 x 4 = 28\n",
      "3 x 5 = 15\n",
      "5 x 5 = 25\n",
      "7 x 5 = 35\n",
      "3 x 6 = 18\n",
      "5 x 6 = 30\n",
      "7 x 6 = 42\n"
     ]
    }
   ],
   "source": [
    "lista1 = [3, 5, 7]\n",
    "lista2 = [2, 3, 4, 5, 6]\n",
    "for i in lista2:\n",
    "    for c in lista1:\n",
    "        print(f\"{c} x {i} = {c*i}\")\n"
   ]
  },
  {
   "cell_type": "markdown",
   "metadata": {},
   "source": [
    "<h1>Exercício 3</h1>"
   ]
  }
 ],
 "metadata": {
  "kernelspec": {
   "display_name": "Python 3",
   "language": "python",
   "name": "python3"
  },
  "language_info": {
   "codemirror_mode": {
    "name": "ipython",
    "version": 3
   },
   "file_extension": ".py",
   "mimetype": "text/x-python",
   "name": "python",
   "nbconvert_exporter": "python",
   "pygments_lexer": "ipython3",
   "version": "3.10.4"
  }
 },
 "nbformat": 4,
 "nbformat_minor": 2
}

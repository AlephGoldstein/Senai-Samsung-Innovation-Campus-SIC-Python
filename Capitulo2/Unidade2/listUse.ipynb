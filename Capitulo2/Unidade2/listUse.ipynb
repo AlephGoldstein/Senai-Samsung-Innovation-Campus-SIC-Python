{
 "cells": [
  {
   "cell_type": "code",
   "execution_count": 1,
   "metadata": {},
   "outputs": [
    {
     "name": "stdout",
     "output_type": "stream",
     "text": [
      "AMERICANO        preçp 3,000KRW\n",
      "ICE AMERICANO    preçp 3,500KRW\n",
      "CAPPUCINO        preçp 4,000KRW\n"
     ]
    }
   ],
   "source": [
    "menu = {\"AMERICANO\" : 3000, \"ICE AMERICANO\" : 3500, \"CAPPUCINO\" : 4000}\n",
    "for key in menu:\n",
    "    print(\"{:16s} preço {:,}KRW\".format(key,menu[key]))"
   ]
  }
 ],
 "metadata": {
  "kernelspec": {
   "display_name": "Python 3",
   "language": "python",
   "name": "python3"
  },
  "language_info": {
   "codemirror_mode": {
    "name": "ipython",
    "version": 3
   },
   "file_extension": ".py",
   "mimetype": "text/x-python",
   "name": "python",
   "nbconvert_exporter": "python",
   "pygments_lexer": "ipython3",
   "version": "3.10.4"
  }
 },
 "nbformat": 4,
 "nbformat_minor": 2
}

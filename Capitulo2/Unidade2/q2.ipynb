{
 "cells": [
  {
   "cell_type": "code",
   "execution_count": null,
   "metadata": {},
   "outputs": [],
   "source": [
    "t1 = \"a\",\"b\",\"c\"\n",
    "t2 = (\"a\",\"b\",\"c\")\n",
    "t3 = (\"d\",\"e\")\n",
    "\n",
    "print(t1 == t2)\n",
    "print(t1 > t3)\n",
    "print(t1 < t3)\n",
    "print(t2 + t3)\n",
    "print([t2 + t3])\n",
    "print(t1)"
   ]
  }
 ],
 "metadata": {
  "kernelspec": {
   "display_name": "Python 3",
   "language": "python",
   "name": "python3"
  },
  "language_info": {
   "name": "python",
   "version": "3.11.9"
  }
 },
 "nbformat": 4,
 "nbformat_minor": 2
}

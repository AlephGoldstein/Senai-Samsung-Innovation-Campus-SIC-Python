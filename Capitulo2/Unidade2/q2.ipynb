{
 "cells": [
  {
   "cell_type": "markdown",
   "metadata": {},
   "source": [
    "T1 é uma tupla implicita\n",
    "T2 é uma tupla explicita\n",
    "t3 é um tupla explicita\n",
    "\n",
    "t1 é semelhante a t2\n",
    "t1 é maior que t3\n",
    "t1 é menor que t3\n",
    "t2 + t3 é uma tupla com os elementos de t2 e t3\n",
    "[t2 + t3] é uma lista com os elementos de t2 e t3 dentro de uma lista\n",
    "t1 é uma tupla com os elementos \"a\",\"b\",\"c\""
   ]
  },
  {
   "cell_type": "markdown",
   "metadata": {},
   "source": []
  },
  {
   "cell_type": "code",
   "execution_count": 1,
   "metadata": {},
   "outputs": [
    {
     "name": "stdout",
     "output_type": "stream",
     "text": [
      "True\n",
      "False\n",
      "True\n",
      "('a', 'b', 'c', 'd', 'e')\n",
      "[('a', 'b', 'c', 'd', 'e')]\n",
      "('a', 'b', 'c')\n"
     ]
    }
   ],
   "source": [
    "t1 = \"a\",\"b\",\"c\"\n",
    "t2 = (\"a\",\"b\",\"c\")\n",
    "t3 = (\"d\",\"e\")\n",
    "\n",
    "print(t1 == t2)\n",
    "print(t1 > t3)\n",
    "print(t1 < t3)\n",
    "print(t2 + t3)\n",
    "print([t2 + t3])\n",
    "print(t1)"
   ]
  }
 ],
 "metadata": {
  "kernelspec": {
   "display_name": "Python 3",
   "language": "python",
   "name": "python3"
  },
  "language_info": {
   "codemirror_mode": {
    "name": "ipython",
    "version": 3
   },
   "file_extension": ".py",
   "mimetype": "text/x-python",
   "name": "python",
   "nbconvert_exporter": "python",
   "pygments_lexer": "ipython3",
   "version": "3.11.9"
  }
 },
 "nbformat": 4,
 "nbformat_minor": 2
}

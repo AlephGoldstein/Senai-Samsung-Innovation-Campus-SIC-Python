{
 "cells": [
  {
   "cell_type": "code",
   "execution_count": 6,
   "metadata": {},
   "outputs": [
    {
     "name": "stdout",
     "output_type": "stream",
     "text": [
      "(500.0, 125.0, 12.0)\n",
      "Nos últimos 10 diais, 3 tiveram vendas reduzidas em realçaão ao dia anterior\n"
     ]
    }
   ],
   "source": [
    "vendas_list = []\n",
    "vendas_list = [float(input(\"Digite o valor da venda: \")) for i in range(3)]\n",
    "venda_tup = tuple(vendas_list)\n",
    "dia_menor = 0\n",
    "print(venda_tup)\n",
    "for c in range(3):\n",
    "    if c > 0:\n",
    "        if venda_tup[c-1] > venda_tup[c]:\n",
    "            dia_menor += 1\n",
    "    else:\n",
    "        if venda_tup[c] > venda_tup[c+1]:\n",
    "            dia_menor += 1\n",
    "print(f\"Nos últimos 10 diais, {dia_menor} tiveram vendas reduzidas em relação ao dia anterior\")\n",
    "            "
   ]
  }
 ],
 "metadata": {
  "kernelspec": {
   "display_name": "Python 3",
   "language": "python",
   "name": "python3"
  },
  "language_info": {
   "codemirror_mode": {
    "name": "ipython",
    "version": 3
   },
   "file_extension": ".py",
   "mimetype": "text/x-python",
   "name": "python",
   "nbconvert_exporter": "python",
   "pygments_lexer": "ipython3",
   "version": "3.11.9"
  }
 },
 "nbformat": 4,
 "nbformat_minor": 2
}

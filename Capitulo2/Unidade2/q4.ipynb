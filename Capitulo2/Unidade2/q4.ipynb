{
 "cells": [
  {
   "cell_type": "code",
   "execution_count": 6,
   "metadata": {},
   "outputs": [
    {
     "name": "stdout",
     "output_type": "stream",
     "text": [
      "4\n",
      "O numero mais repetido foi 9, repitido 4\n"
     ]
    }
   ],
   "source": [
    "tuplea = (1, 2, 5, 4, 3, 2, 1, 4, 7, 8, 9, 9, 3, 7, 3, 9,9)\n",
    "incendent = [tuplea.count(i) for i in tuplea]\n",
    "maior = 0\n",
    "for c,i in enumerate(incendent):\n",
    "    if i > maior:\n",
    "        maior = i\n",
    "        dono = tuplea[c]\n",
    "print(maior)\n",
    "print(f\"O numero mais repetido foi {dono}, repitido {maior} vezes\")"
   ]
  }
 ],
 "metadata": {
  "kernelspec": {
   "display_name": "Python 3",
   "language": "python",
   "name": "python3"
  },
  "language_info": {
   "codemirror_mode": {
    "name": "ipython",
    "version": 3
   },
   "file_extension": ".py",
   "mimetype": "text/x-python",
   "name": "python",
   "nbconvert_exporter": "python",
   "pygments_lexer": "ipython3",
   "version": "3.11.9"
  }
 },
 "nbformat": 4,
 "nbformat_minor": 2
}

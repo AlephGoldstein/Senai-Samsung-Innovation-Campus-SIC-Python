{
 "cells": [
  {
   "cell_type": "code",
   "execution_count": 24,
   "metadata": {},
   "outputs": [
    {
     "name": "stdout",
     "output_type": "stream",
     "text": [
      "[1, 0, 1, 0, 1, 0, 1, 0]\n",
      "[1, 0, 1, 0, 1, 0, 1, 0]\n",
      "[1, 0, 1, 0, 1, 0, 1, 0]\n",
      "[1, 0, 1, 0, 1, 0, 1, 0]\n",
      "[1, 0, 1, 0, 1, 0, 1, 0]\n",
      "[1, 0, 1, 0, 1, 0, 1, 0]\n",
      "[1, 0, 1, 0, 1, 0, 1, 0]\n",
      "[1, 0, 1, 0, 1, 0, 1, 0]\n"
     ]
    }
   ],
   "source": [
    "n = int(input(\"Digite um numero montar a matriz\"))\n",
    "list2 = []\n",
    "if n >= 2:\n",
    "    for i in range(0,n):\n",
    "        list1 = []\n",
    "        for j in range(0,round(n/2)):\n",
    "            list1.append(1)\n",
    "            list1.append(0)\n",
    "        list2.append(list1)\n",
    "    for i in list2:\n",
    "        print(i)\n",
    "\n"
   ]
  }
 ],
 "metadata": {
  "kernelspec": {
   "display_name": "Python 3",
   "language": "python",
   "name": "python3"
  },
  "language_info": {
   "codemirror_mode": {
    "name": "ipython",
    "version": 3
   },
   "file_extension": ".py",
   "mimetype": "text/x-python",
   "name": "python",
   "nbconvert_exporter": "python",
   "pygments_lexer": "ipython3",
   "version": "3.10.4"
  }
 },
 "nbformat": 4,
 "nbformat_minor": 2
}

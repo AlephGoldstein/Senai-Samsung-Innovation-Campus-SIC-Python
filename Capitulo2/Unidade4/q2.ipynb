{
 "cells": [
  {
   "cell_type": "code",
   "execution_count": 2,
   "metadata": {},
   "outputs": [
    {
     "name": "stdout",
     "output_type": "stream",
     "text": [
      "esse item possui   4  unidades\n",
      "esse item possui   5  unidades\n",
      "esse item possui   7  unidades\n"
     ]
    }
   ],
   "source": [
    "itens_loja = {\"Café\":5, \"Leite\":4, \"Pão\":7,\"Baguete\":6}\n",
    "while True:\n",
    "    item = input(\"Digite o nome do item: \")\n",
    "    if item in itens_loja:\n",
    "        print(\"esse item possui  \", itens_loja[item], \" unidades\")\n",
    "    else:\n",
    "        print(\"Item não encontrado\")\n",
    "    continuar = input(\"Deseja continuar? (s/n)\")\n",
    "    if continuar == \"n\":\n",
    "        break\n",
    "    "
   ]
  }
 ],
 "metadata": {
  "kernelspec": {
   "display_name": "Python 3",
   "language": "python",
   "name": "python3"
  },
  "language_info": {
   "codemirror_mode": {
    "name": "ipython",
    "version": 3
   },
   "file_extension": ".py",
   "mimetype": "text/x-python",
   "name": "python",
   "nbconvert_exporter": "python",
   "pygments_lexer": "ipython3",
   "version": "3.11.9"
  }
 },
 "nbformat": 4,
 "nbformat_minor": 2
}

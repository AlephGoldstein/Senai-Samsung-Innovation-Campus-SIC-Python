{
 "cells": [
  {
   "cell_type": "code",
   "execution_count": 3,
   "metadata": {},
   "outputs": [
    {
     "name": "stdout",
     "output_type": "stream",
     "text": [
      "1 - Verificar Estoque\n",
      "2 - Armazenar\n",
      "3 - Remover\n",
      "4 - Sair\n",
      "1 - Verificar Estoque\n",
      "2 - Armazenar\n",
      "3 - Remover\n",
      "4 - Sair\n",
      "1 - Verificar Estoque\n",
      "2 - Armazenar\n",
      "3 - Remover\n",
      "4 - Sair\n",
      "Estoque:  {'Queijo': 6}\n",
      "1 - Verificar Estoque\n",
      "2 - Armazenar\n",
      "3 - Remover\n",
      "4 - Sair\n",
      "Produto removido com sucesso\n",
      "1 - Verificar Estoque\n",
      "2 - Armazenar\n",
      "3 - Remover\n",
      "4 - Sair\n",
      "Estoque:  {'Queijo': 0}\n",
      "1 - Verificar Estoque\n",
      "2 - Armazenar\n",
      "3 - Remover\n",
      "4 - Sair\n",
      "Estoque:  {'Queijo': 0}\n",
      "1 - Verificar Estoque\n",
      "2 - Armazenar\n",
      "3 - Remover\n",
      "4 - Sair\n"
     ]
    },
    {
     "ename": "ValueError",
     "evalue": "invalid literal for int() with base 10: 'Leite'",
     "output_type": "error",
     "traceback": [
      "\u001b[1;31m---------------------------------------------------------------------------\u001b[0m",
      "\u001b[1;31mValueError\u001b[0m                                Traceback (most recent call last)",
      "Cell \u001b[1;32mIn[3], line 7\u001b[0m\n\u001b[0;32m      5\u001b[0m \u001b[38;5;28mprint\u001b[39m(\u001b[38;5;124m\"\u001b[39m\u001b[38;5;124m3 - Remover\u001b[39m\u001b[38;5;124m\"\u001b[39m)\n\u001b[0;32m      6\u001b[0m \u001b[38;5;28mprint\u001b[39m(\u001b[38;5;124m\"\u001b[39m\u001b[38;5;124m4 - Sair\u001b[39m\u001b[38;5;124m\"\u001b[39m)\n\u001b[1;32m----> 7\u001b[0m resp \u001b[38;5;241m=\u001b[39m \u001b[38;5;28;43mint\u001b[39;49m\u001b[43m(\u001b[49m\u001b[38;5;28;43minput\u001b[39;49m\u001b[43m(\u001b[49m\u001b[38;5;124;43m\"\u001b[39;49m\u001b[38;5;124;43mSelecione uma opção\u001b[39;49m\u001b[38;5;124;43m\"\u001b[39;49m\u001b[43m)\u001b[49m\u001b[43m)\u001b[49m\n\u001b[0;32m      8\u001b[0m \u001b[38;5;28;01mif\u001b[39;00m resp \u001b[38;5;241m==\u001b[39m \u001b[38;5;241m1\u001b[39m:\n\u001b[0;32m      9\u001b[0m     \u001b[38;5;28mprint\u001b[39m(\u001b[38;5;124m\"\u001b[39m\u001b[38;5;124mEstoque: \u001b[39m\u001b[38;5;124m\"\u001b[39m, estoque)\n",
      "\u001b[1;31mValueError\u001b[0m: invalid literal for int() with base 10: 'Leite'"
     ]
    }
   ],
   "source": [
    "estoque = {}\n",
    "while True:\n",
    "    print(\"1 - Verificar Estoque\")\n",
    "    print(\"2 - Armazenar\")\n",
    "    print(\"3 - Remover\")\n",
    "    print(\"4 - Sair\")\n",
    "    resp = int(input(\"Selecione uma opção\"))\n",
    "    if resp == 1:\n",
    "        print(\"Estoque: \", estoque)\n",
    "    elif resp == 2:\n",
    "        produto = input(\"Digite o nome do produto: \")\n",
    "        quantidade = int(input(\"Digite a quantidade: \"))\n",
    "        estoque[produto] = quantidade\n",
    "    elif resp == 3:\n",
    "        produto = input(\"Digite o nome do produto: \")\n",
    "        if produto in estoque:\n",
    "            quantidade = int(input(\"Digite a quantidade: \"))\n",
    "            if estoque[produto] >= quantidade:\n",
    "                estoque[produto] -= quantidade\n",
    "                print(\"Produto removido com sucesso\")\n",
    "            else:\n",
    "                print(\"Quantidade insuficiente no estoque\")\n",
    "        else:\n",
    "            print(\"Produto não encontrado no estoque\")\n",
    "    elif resp == 4:\n",
    "        break\n",
    "    else:\n",
    "        print(\"Opção inválida\")"
   ]
  }
 ],
 "metadata": {
  "kernelspec": {
   "display_name": "Python 3",
   "language": "python",
   "name": "python3"
  },
  "language_info": {
   "codemirror_mode": {
    "name": "ipython",
    "version": 3
   },
   "file_extension": ".py",
   "mimetype": "text/x-python",
   "name": "python",
   "nbconvert_exporter": "python",
   "pygments_lexer": "ipython3",
   "version": "3.11.9"
  }
 },
 "nbformat": 4,
 "nbformat_minor": 2
}

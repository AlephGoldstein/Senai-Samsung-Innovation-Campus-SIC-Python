{
 "cells": [
  {
   "cell_type": "code",
   "execution_count": 1,
   "metadata": {},
   "outputs": [
    {
     "name": "stdout",
     "output_type": "stream",
     "text": [
      "Name:  David Doe\n"
     ]
    }
   ],
   "source": [
    "student_tuple = [('211101', 'David Doe', '010-123-1111'), ('211102', 'John Smith', '010-123-2222'), \n",
    "                   ('211103', 'Jane Carter', '010-123-3333')]\n",
    "dicte = {}\n",
    "for i in student_tuple:\n",
    "    dicte[i[0]] = i[1]\n",
    "while True:\n",
    "    student_id = input('Enter student ID: ')\n",
    "    if student_id in dicte:\n",
    "        print('Name: ', dicte[student_id])\n",
    "    else:\n",
    "        print('Student ID not found')\n",
    "    opt = input(\"Continuar? (S/N)\")\n",
    "    if opt.upper() == \"N\":\n",
    "        break\n",
    "    "
   ]
  }
 ],
 "metadata": {
  "kernelspec": {
   "display_name": "Python 3",
   "language": "python",
   "name": "python3"
  },
  "language_info": {
   "codemirror_mode": {
    "name": "ipython",
    "version": 3
   },
   "file_extension": ".py",
   "mimetype": "text/x-python",
   "name": "python",
   "nbconvert_exporter": "python",
   "pygments_lexer": "ipython3",
   "version": "3.11.9"
  }
 },
 "nbformat": 4,
 "nbformat_minor": 2
}

{
 "cells": [
  {
   "cell_type": "code",
   "execution_count": 7,
   "metadata": {},
   "outputs": [
    {
     "name": "stdout",
     "output_type": "stream",
     "text": [
      "Média: 3.3333333333333335\n",
      "Maior número: 5\n",
      "Menor número: 1\n"
     ]
    }
   ],
   "source": [
    "def media3(n1, n2, n3):\n",
    "    return (n1 + n2 + n3) / 3\n",
    "def max3(n1, n2, n3):\n",
    "    return max(n1, n2, n3)\n",
    "def min3(n1, n2, n3):\n",
    "    return min(n1, n2, n3)\n",
    "n1 = int(input(\"Digite o primeiro numero: \"))\n",
    "n2 = int(input(\"Digite o segundo numero: \"))\n",
    "n3 = int(input(\"Digite o terceiro numero: \"))\n",
    "print(\"Média:\", media3(n1, n2, n3))\n",
    "print(\"Maior número:\", max3(n1, n2, n3))\n",
    "print(\"Menor número:\", min3(n1, n2, n3))\n"
   ]
  }
 ],
 "metadata": {
  "interpreter": {
   "hash": "369f2c481f4da34e4445cda3fffd2e751bd1c4d706f27375911949ba6bb62e1c"
  },
  "kernelspec": {
   "display_name": "Python 3.10.4 64-bit",
   "language": "python",
   "name": "python3"
  },
  "language_info": {
   "codemirror_mode": {
    "name": "ipython",
    "version": 3
   },
   "file_extension": ".py",
   "mimetype": "text/x-python",
   "name": "python",
   "nbconvert_exporter": "python",
   "pygments_lexer": "ipython3",
   "version": "3.10.4"
  },
  "orig_nbformat": 4
 },
 "nbformat": 4,
 "nbformat_minor": 2
}

{
 "cells": [
  {
   "cell_type": "code",
   "execution_count": 1,
   "metadata": {},
   "outputs": [
    {
     "name": "stdout",
     "output_type": "stream",
     "text": [
      "[44, 44, 44]\n",
      "[[1, 1, 1], [2, 2, 2], [5, 5, 5], [11, 11, 11], [23, 23, 23], [54, 54, 54], [125, 125, 125], [0, 0, 0], [215, 215, 215], [44, 44, 44]]\n"
     ]
    }
   ],
   "source": [
    "def calcNota(notas):\n",
    "    listasNota = []\n",
    "    listaNota = []\n",
    "    for c,nota in enumerate(notas):\n",
    "        lista\n",
    "\n",
    "calcNota([1,2,5,11,23,54,125,0,215,44])\n",
    "        \n",
    "\n",
    "            \n"
   ]
  },
  {
   "cell_type": "code",
   "execution_count": null,
   "metadata": {},
   "outputs": [],
   "source": []
  }
 ],
 "metadata": {
  "kernelspec": {
   "display_name": "Python 3",
   "language": "python",
   "name": "python3"
  },
  "language_info": {
   "codemirror_mode": {
    "name": "ipython",
    "version": 3
   },
   "file_extension": ".py",
   "mimetype": "text/x-python",
   "name": "python",
   "nbconvert_exporter": "python",
   "pygments_lexer": "ipython3",
   "version": "3.10.4"
  }
 },
 "nbformat": 4,
 "nbformat_minor": 2
}

{
 "cells": [
  {
   "cell_type": "code",
   "execution_count": null,
   "metadata": {},
   "outputs": [],
   "source": [
    "lst = list(range(101))  # Criação da lista de 0 a 100\n",
    "\n",
    "def func2(a):\n",
    "    result1 = []\n",
    "    for i in a:\n",
    "        if i % 5 == 0:\n",
    "            result1.append(i)\n",
    "    return result1\n",
    "\n",
    "def func3(a):\n",
    "    result2 = []\n",
    "    for i in a:\n",
    "        if i % 7 == 0:\n",
    "            result2.append(i)\n",
    "    return result2\n",
    "\n",
    "def func1(func2, func3):\n",
    "    # Usando set() para evitar duplicações\n",
    "    lista = set(func2(lst)) | set(func3(lst))  \n",
    "    return sorted(lista)  # Ordenando para manter a sequência\n",
    "\n",
    "print(func1(func2, func3))\n"
   ]
  }
 ],
 "metadata": {
  "kernelspec": {
   "display_name": "Python 3",
   "language": "python",
   "name": "python3"
  },
  "language_info": {
   "name": "python",
   "version": "3.11.9"
  }
 },
 "nbformat": 4,
 "nbformat_minor": 2
}

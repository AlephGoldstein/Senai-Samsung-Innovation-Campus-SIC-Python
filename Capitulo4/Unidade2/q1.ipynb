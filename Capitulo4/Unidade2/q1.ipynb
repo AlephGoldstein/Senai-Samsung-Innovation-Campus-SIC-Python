{
 "cells": [
  {
   "cell_type": "code",
   "execution_count": 15,
   "metadata": {},
   "outputs": [
    {
     "name": "stdout",
     "output_type": "stream",
     "text": [
      "Olá, Mundo!\n",
      "Estamos aprendendo a arte da codificação\n",
      "com a linguagem de programação Python.\n",
      "Aqui estamos aprendendo...\n",
      "Estruturas de Dados,\n",
      "Algoritmos,\n",
      "e Pensamento Computacional,\n",
      "eventualmente.\n",
      "Allan o Brabo\n"
     ]
    }
   ],
   "source": [
    "from stack import Stack\n",
    "stack = Stack()\n",
    "html_doc = \"\"\"\n",
    "<html>\n",
    "<body>\n",
    "<h1>Olá, Mundo!</h1>\n",
    "<p> Estamos aprendendo a arte da codificação\n",
    "com a linguagem de programação Python.\n",
    "Aqui estamos aprendendo... </p>\n",
    "<ul>\n",
    "<li> Estruturas de Dados, </li>\n",
    "<li> Algoritmos, </li>\n",
    "<li> e Pensamento Computacional,\n",
    "eventualmente. </li>\n",
    "<sub><h2>Allan o Brabo</h2></sub>\n",
    "</ul>\n",
    "</body>\n",
    "</html>\n",
    "\"\"\"\n",
    "text = \"\"\n",
    "in_tag = False\n",
    "\n",
    "for i in html_doc:\n",
    "    if i == '<':\n",
    "        in_tag = True\n",
    "        if (text.strip()):\n",
    "            print(text.strip())\n",
    "            text = ''\n",
    "    elif i == '>':\n",
    "            in_tag = False\n",
    "            stack.pop()\n",
    "    elif not in_tag:\n",
    "            text += i\n",
    "if text.strip():  # Adiciona texto final se existir\n",
    "        print(text.strip())\n",
    "\n"
   ]
  }
 ],
 "metadata": {
  "kernelspec": {
   "display_name": "Python 3",
   "language": "python",
   "name": "python3"
  },
  "language_info": {
   "codemirror_mode": {
    "name": "ipython",
    "version": 3
   },
   "file_extension": ".py",
   "mimetype": "text/x-python",
   "name": "python",
   "nbconvert_exporter": "python",
   "pygments_lexer": "ipython3",
   "version": "3.10.4"
  }
 },
 "nbformat": 4,
 "nbformat_minor": 2
}

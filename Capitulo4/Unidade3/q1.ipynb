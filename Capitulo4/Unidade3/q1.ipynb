{
 "cells": [
  {
   "cell_type": "code",
   "execution_count": null,
   "metadata": {},
   "outputs": [],
   "source": [
    "class Deque:\n",
    "\n",
    "    def __init__(self):\n",
    "        self.queue = []\n",
    "\n",
    "    def add_first(self, item):\n",
    "        self.queue.append(item)\n",
    "\n",
    "    def remove_first(self):\n",
    "        return None if len(self.queue) == 0 else self.queue.pop(0)\n",
    "\n",
    "    def add_first(self, item):\n",
    "        self.queue.insert(0,item)\n",
    "\n",
    "    def remove_first(self):\n",
    "        return None if len(self.queue) == 0 else self.queue.pop()"
   ]
  }
 ],
 "metadata": {
  "language_info": {
   "name": "python"
  }
 },
 "nbformat": 4,
 "nbformat_minor": 2
}

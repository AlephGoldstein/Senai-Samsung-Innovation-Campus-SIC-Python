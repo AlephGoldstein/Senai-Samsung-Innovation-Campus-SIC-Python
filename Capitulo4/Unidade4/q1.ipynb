{
 "cells": [
  {
   "cell_type": "code",
   "execution_count": 12,
   "metadata": {},
   "outputs": [],
   "source": [
    "def word_count(S,x):\n",
    "    count = 0\n",
    "    for i in S:\n",
    "        for letter in i:\n",
    "            if letter == x:\n",
    "                count += 1\n",
    "    return count"
   ]
  },
  {
   "cell_type": "code",
   "execution_count": 13,
   "metadata": {},
   "outputs": [
    {
     "name": "stdout",
     "output_type": "stream",
     "text": [
      "t\n",
      "h\n",
      "e\n",
      "q\n",
      "u\n",
      "i\n",
      "c\n",
      "k\n",
      "b\n",
      "r\n",
      "o\n",
      "w\n",
      "n\n",
      "f\n",
      "o\n",
      "x\n",
      "j\n",
      "u\n",
      "m\n",
      "p\n",
      "s\n",
      "o\n",
      "v\n",
      "e\n",
      "r\n",
      "t\n",
      "h\n",
      "e\n",
      "l\n",
      "a\n",
      "z\n",
      "y\n",
      "d\n",
      "o\n",
      "g\n",
      "In S, s is appeared in 1 times.\n"
     ]
    }
   ],
   "source": [
    "S = list(input(\"Input a setence: \").split())\n",
    "x = input(\"Input a word to search: \")\n",
    "count = word_count(S, x)\n",
    "print(f\"In S, {x} is appeared in {count} times.\")"
   ]
  }
 ],
 "metadata": {
  "kernelspec": {
   "display_name": "Python 3",
   "language": "python",
   "name": "python3"
  },
  "language_info": {
   "codemirror_mode": {
    "name": "ipython",
    "version": 3
   },
   "file_extension": ".py",
   "mimetype": "text/x-python",
   "name": "python",
   "nbconvert_exporter": "python",
   "pygments_lexer": "ipython3",
   "version": "3.11.9"
  }
 },
 "nbformat": 4,
 "nbformat_minor": 2
}

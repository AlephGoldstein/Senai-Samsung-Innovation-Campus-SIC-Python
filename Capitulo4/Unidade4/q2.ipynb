{
 "cells": [
  {
   "cell_type": "code",
   "execution_count": null,
   "metadata": {},
   "outputs": [],
   "source": [
    "def search_insert_position(nums, x):\n",
    "    low, high = 0, len(nums) -1\n",
    "    while len(nums) > c:\n",
    "        pass"
   ]
  },
  {
   "cell_type": "code",
   "execution_count": null,
   "metadata": {},
   "outputs": [],
   "source": [
    "nums = [10, 20, 40, 50, 60, 80 ]\n",
    "x = int(input(\"Input a number to insert: \"))\n",
    "pos = search_insert_position(nums, x )\n",
    "print(f\"{x} should be inserted at position {pos}.\")\n",
    "nums.insert(pos, x)\n",
    "print(nums)"
   ]
  }
 ],
 "metadata": {
  "language_info": {
   "name": "python"
  }
 },
 "nbformat": 4,
 "nbformat_minor": 2
}

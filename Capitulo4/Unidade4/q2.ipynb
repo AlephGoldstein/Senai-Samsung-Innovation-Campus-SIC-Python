{
 "cells": [
  {
   "cell_type": "code",
   "execution_count": 3,
   "metadata": {},
   "outputs": [],
   "source": [
    "def search_insert_position(nums, x):\n",
    "    low, high = 0, len(nums) -1\n",
    "    while low < high:\n",
    "        mid = (low+high)//2\n",
    "        if nums[mid] < x:\n",
    "            low = mid + 1\n",
    "        else:\n",
    "            high = mid\n",
    "    return low\n",
    "\n"
   ]
  },
  {
   "cell_type": "code",
   "execution_count": 4,
   "metadata": {},
   "outputs": [
    {
     "name": "stdout",
     "output_type": "stream",
     "text": [
      "12 should be inserted at position 1.\n",
      "[10, 12, 20, 40, 50, 60, 80]\n"
     ]
    }
   ],
   "source": [
    "nums = [10, 20, 40, 50, 60, 80 ]\n",
    "x = int(input(\"Input a number to insert: \"))\n",
    "pos = search_insert_position(nums, x )\n",
    "print(f\"{x} should be inserted at position {pos}.\")\n",
    "nums.insert(pos, x)\n",
    "print(nums)"
   ]
  }
 ],
 "metadata": {
  "kernelspec": {
   "display_name": "Python 3",
   "language": "python",
   "name": "python3"
  },
  "language_info": {
   "codemirror_mode": {
    "name": "ipython",
    "version": 3
   },
   "file_extension": ".py",
   "mimetype": "text/x-python",
   "name": "python",
   "nbconvert_exporter": "python",
   "pygments_lexer": "ipython3",
   "version": "3.11.9"
  }
 },
 "nbformat": 4,
 "nbformat_minor": 2
}

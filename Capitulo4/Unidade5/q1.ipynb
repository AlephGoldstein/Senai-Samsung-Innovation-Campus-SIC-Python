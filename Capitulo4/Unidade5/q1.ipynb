{
 "cells": [
  {
   "cell_type": "code",
   "execution_count": 19,
   "metadata": {},
   "outputs": [],
   "source": [
    "table = {1000:'M', 900:'CM', 500: 'D', 400: 'CD', 100: 'C', 90:'XC', 50:'L', 40:'XL',10: 'X', 9:'IX', 5:'V',  4:'XI', 1:'I'}\n",
    "class HashTable:\n",
    "    \n",
    "    def __init__(self,size):\n",
    "        self.size = size\n",
    "        self.table = {}\n",
    "        for i in range(size):\n",
    "            self.table[i] = []\n",
    "\n",
    "    def hash(self,key):\n",
    "        return key % self.size\n",
    "\n",
    "    def get(self, key):\n",
    "        return self.table[self.hash(key)]\n",
    "    \n",
    "    def put(self, key, value):\n",
    "        bucket = self.table[self.hash(key)]\n",
    "        if value not in bucket:\n",
    "            bucket.append(value)\n",
    "            \n",
    "    def int_to_roman(self,num):\n",
    "        for k,v in table.items():\n",
    "            while num >= k:\n",
    "                if num > 0:\n",
    "                    num -= k\n",
    "                    print(v, end='')\n",
    "        \n",
    "        \n",
    "        \n"
   ]
  },
  {
   "cell_type": "code",
   "execution_count": 21,
   "metadata": {},
   "outputs": [
    {
     "name": "stdout",
     "output_type": "stream",
     "text": [
      "MMMMMMMMDVNone\n"
     ]
    }
   ],
   "source": [
    "hash = HashTable(8)\n",
    "for i in table:\n",
    "    hash.put(i,table[i])\n",
    "print(hash.int_to_roman(8505))"
   ]
  }
 ],
 "metadata": {
  "kernelspec": {
   "display_name": "Python 3",
   "language": "python",
   "name": "python3"
  },
  "language_info": {
   "codemirror_mode": {
    "name": "ipython",
    "version": 3
   },
   "file_extension": ".py",
   "mimetype": "text/x-python",
   "name": "python",
   "nbconvert_exporter": "python",
   "pygments_lexer": "ipython3",
   "version": "3.11.9"
  }
 },
 "nbformat": 4,
 "nbformat_minor": 2
}

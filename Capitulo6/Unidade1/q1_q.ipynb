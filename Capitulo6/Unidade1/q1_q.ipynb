{
 "cells": [
  {
   "cell_type": "code",
   "execution_count": 7,
   "metadata": {},
   "outputs": [
    {
     "name": "stdout",
     "output_type": "stream",
     "text": [
      "500\n",
      "[500, 100, 100, 10]\n"
     ]
    }
   ],
   "source": [
    "def MaquinaTrocoCoreana(coins,valor):\n",
    "    changes = []\n",
    "    maior = 0\n",
    "    print(coins[maior])\n",
    "    while valor > 1:\n",
    "        if valor < coins[maior]:\n",
    "            maior += 1\n",
    "        else:\n",
    "            changes.append(coins[maior])\n",
    "            valor -= coins[maior]\n",
    "    print(changes)\n",
    "coins = [500,100,50,10]\n",
    "MaquinaTrocoCoreana(coins,710)\n"
   ]
  },
  {
   "cell_type": "code",
   "execution_count": 12,
   "metadata": {},
   "outputs": [
    {
     "name": "stdout",
     "output_type": "stream",
     "text": [
      "[100, 50, 50, 50]\n"
     ]
    }
   ],
   "source": [
    "def MaquinaTrocoCoreana2(valor):\n",
    "    coins = [500,100,50,50,50,10,10]\n",
    "    changes = []\n",
    "    maior = 0\n",
    "    while valor > 1:\n",
    "        if valor < coins[maior]:\n",
    "            maior += 1\n",
    "        else:\n",
    "            changes.append(coins[maior])\n",
    "            valor -= coins[maior]\n",
    "            coins.pop(maior)\n",
    "    print(changes)\n",
    "MaquinaTrocoCoreana2(250)"
   ]
  }
 ],
 "metadata": {
  "kernelspec": {
   "display_name": "Python 3",
   "language": "python",
   "name": "python3"
  },
  "language_info": {
   "codemirror_mode": {
    "name": "ipython",
    "version": 3
   },
   "file_extension": ".py",
   "mimetype": "text/x-python",
   "name": "python",
   "nbconvert_exporter": "python",
   "pygments_lexer": "ipython3",
   "version": "3.10.4"
  }
 },
 "nbformat": 4,
 "nbformat_minor": 2
}

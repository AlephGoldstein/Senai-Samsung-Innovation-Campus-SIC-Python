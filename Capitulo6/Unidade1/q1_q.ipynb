{
 "cells": [
  {
   "cell_type": "code",
   "execution_count": 7,
   "metadata": {},
   "outputs": [
    {
     "name": "stdout",
     "output_type": "stream",
     "text": [
      "500\n",
      "[500, 100, 100, 10]\n"
     ]
    }
   ],
   "source": [
    "def MaquinaTrocoCoreana(coins,valor):\n",
    "    changes = []\n",
    "    maior = 0\n",
    "    print(coins[maior])\n",
    "    while valor > 1:\n",
    "        if valor < coins[maior]:\n",
    "            maior += 1\n",
    "        else:\n",
    "            changes.append(coins[maior])\n",
    "            valor -= coins[maior]\n",
    "    print(changes)\n",
    "coins = [500,100,50,10]\n",
    "MaquinaTrocoCoreana(coins,710)\n"
   ]
  },
  {
   "cell_type": "code",
   "execution_count": 11,
   "metadata": {},
   "outputs": [
    {
     "ename": "IndexError",
     "evalue": "list index out of range",
     "output_type": "error",
     "traceback": [
      "\u001b[1;31m---------------------------------------------------------------------------\u001b[0m",
      "\u001b[1;31mIndexError\u001b[0m                                Traceback (most recent call last)",
      "Cell \u001b[1;32mIn[11], line 13\u001b[0m\n\u001b[0;32m     11\u001b[0m             coins\u001b[38;5;241m.\u001b[39mpop(maior)\n\u001b[0;32m     12\u001b[0m     \u001b[38;5;28mprint\u001b[39m(changes)\n\u001b[1;32m---> 13\u001b[0m \u001b[43mMaquinaTrocoCoreana2\u001b[49m\u001b[43m(\u001b[49m\u001b[38;5;241;43m850\u001b[39;49m\u001b[43m)\u001b[49m\n",
      "Cell \u001b[1;32mIn[11], line 6\u001b[0m, in \u001b[0;36mMaquinaTrocoCoreana2\u001b[1;34m(valor)\u001b[0m\n\u001b[0;32m      4\u001b[0m maior \u001b[38;5;241m=\u001b[39m \u001b[38;5;241m0\u001b[39m\n\u001b[0;32m      5\u001b[0m \u001b[38;5;28;01mwhile\u001b[39;00m valor \u001b[38;5;241m>\u001b[39m \u001b[38;5;241m1\u001b[39m:\n\u001b[1;32m----> 6\u001b[0m     \u001b[38;5;28;01mif\u001b[39;00m valor \u001b[38;5;241m<\u001b[39m \u001b[43mcoins\u001b[49m\u001b[43m[\u001b[49m\u001b[43mmaior\u001b[49m\u001b[43m]\u001b[49m:\n\u001b[0;32m      7\u001b[0m         maior \u001b[38;5;241m+\u001b[39m\u001b[38;5;241m=\u001b[39m \u001b[38;5;241m1\u001b[39m\n\u001b[0;32m      8\u001b[0m     \u001b[38;5;28;01melse\u001b[39;00m:\n",
      "\u001b[1;31mIndexError\u001b[0m: list index out of range"
     ]
    }
   ],
   "source": [
    "def MaquinaTrocoCoreana2(valor):\n",
    "    coins = [500,100,50,50,50,10,10]\n",
    "    changes = []\n",
    "    maior = 0\n",
    "    while valor > 1:\n",
    "        if valor < coins[maior]:\n",
    "            maior += 1\n",
    "        else:\n",
    "            changes.append(coins[maior])\n",
    "            valor -= coins[maior]\n",
    "            coins.pop(maior)\n",
    "    print(changes)\n",
    "MaquinaTrocoCoreana2(850)"
   ]
  }
 ],
 "metadata": {
  "kernelspec": {
   "display_name": "Python 3",
   "language": "python",
   "name": "python3"
  },
  "language_info": {
   "codemirror_mode": {
    "name": "ipython",
    "version": 3
   },
   "file_extension": ".py",
   "mimetype": "text/x-python",
   "name": "python",
   "nbconvert_exporter": "python",
   "pygments_lexer": "ipython3",
   "version": "3.10.4"
  }
 },
 "nbformat": 4,
 "nbformat_minor": 2
}

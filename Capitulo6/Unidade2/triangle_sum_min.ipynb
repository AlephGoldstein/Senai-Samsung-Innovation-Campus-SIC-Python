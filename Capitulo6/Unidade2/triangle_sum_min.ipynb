{
 "cells": [
  {
   "cell_type": "code",
   "execution_count": 8,
   "metadata": {},
   "outputs": [],
   "source": [
    "def find_minimum(row, col, triangle):\n",
    "    print(f\"ROW {row} col {col}\")\n",
    "    if row == len(triangle):\n",
    "        return 0\n",
    "    else:\n",
    "        minimun = (min(find_minimum(row+1,col,triangle),\n",
    "                       find_minimum(row +1, col + 1,triangle)))\n",
    "    return triangle[row][col] + minimun\n"
   ]
  },
  {
   "cell_type": "code",
   "execution_count": 9,
   "metadata": {},
   "outputs": [
    {
     "name": "stdout",
     "output_type": "stream",
     "text": [
      "ROW 0 col 0\n",
      "ROW 1 col 0\n",
      "ROW 2 col 0\n",
      "ROW 3 col 0\n",
      "ROW 4 col 0\n",
      "ROW 4 col 1\n",
      "ROW 3 col 1\n",
      "ROW 4 col 1\n",
      "ROW 4 col 2\n",
      "ROW 2 col 1\n",
      "ROW 3 col 1\n",
      "ROW 4 col 1\n",
      "ROW 4 col 2\n",
      "ROW 3 col 2\n",
      "ROW 4 col 2\n",
      "ROW 4 col 3\n",
      "ROW 1 col 1\n",
      "ROW 2 col 1\n",
      "ROW 3 col 1\n",
      "ROW 4 col 1\n",
      "ROW 4 col 2\n",
      "ROW 3 col 2\n",
      "ROW 4 col 2\n",
      "ROW 4 col 3\n",
      "ROW 2 col 2\n",
      "ROW 3 col 2\n",
      "ROW 4 col 2\n",
      "ROW 4 col 3\n",
      "ROW 3 col 3\n",
      "ROW 4 col 3\n",
      "ROW 4 col 4\n",
      "11\n"
     ]
    }
   ],
   "source": [
    "triangle = [\n",
    "    [2],\n",
    "    [3,4],\n",
    "    [6,5,7],\n",
    "    [4,1,8,3]\n",
    "]\n",
    "minimum = find_minimum(0,0,triangle)\n",
    "print(minimum)"
   ]
  }
 ],
 "metadata": {
  "kernelspec": {
   "display_name": "Python 3",
   "language": "python",
   "name": "python3"
  },
  "language_info": {
   "codemirror_mode": {
    "name": "ipython",
    "version": 3
   },
   "file_extension": ".py",
   "mimetype": "text/x-python",
   "name": "python",
   "nbconvert_exporter": "python",
   "pygments_lexer": "ipython3",
   "version": "3.10.4"
  }
 },
 "nbformat": 4,
 "nbformat_minor": 2
}

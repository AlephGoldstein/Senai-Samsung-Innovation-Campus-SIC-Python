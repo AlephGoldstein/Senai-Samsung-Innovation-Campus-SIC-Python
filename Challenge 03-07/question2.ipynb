{
 "cells": [
  {
   "cell_type": "code",
   "execution_count": null,
   "metadata": {},
   "outputs": [],
   "source": [
    "num1 = int(input('Digite um numero: '))\n",
    "num2 = int(input('Digite outro numero: '))\n",
    "print(num1 ** num2)"
   ]
  },
  {
   "cell_type": "code",
   "execution_count": null,
   "metadata": {},
   "outputs": [],
   "source": []
  }
 ],
 "metadata": {
  "language_info": {
   "name": "python"
  }
 },
 "nbformat": 4,
 "nbformat_minor": 2
}

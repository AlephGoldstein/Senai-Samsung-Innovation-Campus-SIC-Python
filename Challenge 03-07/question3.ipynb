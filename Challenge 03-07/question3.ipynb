{
 "cells": [
  {
   "cell_type": "code",
   "execution_count": 9,
   "metadata": {},
   "outputs": [
    {
     "name": "stdout",
     "output_type": "stream",
     "text": [
      "Em milhas 0.01893939393939394, polegadas 1200, Jardas 33.333333333333336\n"
     ]
    }
   ],
   "source": [
    "def DistanceConversor(distance,objtype):\n",
    "       if objtype == \"Jarda\":\n",
    "           return distance/3\n",
    "       elif objtype == \"Polegadas\":\n",
    "           return distance * 12\n",
    "       elif objtype == \"Milhas\":\n",
    "           return distance / (1760*3)\n",
    "       else:\n",
    "            return f\"Em milhas {distance / (1760*3)}, polegadas {distance * 12}, Jardas {distance/3}\"\n",
    "       \n",
    "print(DistanceConversor(100,\"\"))"
   ]
  },
  {
   "cell_type": "code",
   "execution_count": null,
   "metadata": {},
   "outputs": [],
   "source": []
  }
 ],
 "metadata": {
  "kernelspec": {
   "display_name": "Python 3",
   "language": "python",
   "name": "python3"
  },
  "language_info": {
   "codemirror_mode": {
    "name": "ipython",
    "version": 3
   },
   "file_extension": ".py",
   "mimetype": "text/x-python",
   "name": "python",
   "nbconvert_exporter": "python",
   "pygments_lexer": "ipython3",
   "version": "3.10.4"
  }
 },
 "nbformat": 4,
 "nbformat_minor": 2
}

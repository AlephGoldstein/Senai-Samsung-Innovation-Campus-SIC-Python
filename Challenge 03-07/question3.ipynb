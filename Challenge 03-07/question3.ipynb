{
 "cells": [
  {
   "cell_type": "code",
   "execution_count": 3,
   "metadata": {},
   "outputs": [
    {
     "name": "stdout",
     "output_type": "stream",
     "text": [
      "300\n"
     ]
    }
   ],
   "source": [
    "def DistanceConversor(distance,ortype,objtype):\n",
    "    if ortype == \"Pé\":\n",
    "       if objtype == \"Jarda\":\n",
    "           return distance/3\n",
    "       else:\n",
    "           return distance / (1760*3)\n",
    "    elif ortype == \"Jarda\":\n",
    "        if objtype == \"Pé\":\n",
    "            return distance*3\n",
    "        else:\n",
    "            return distance*1760\n",
    "    else:\n",
    "        if objtype == \"Pé\":\n",
    "            return distance*(1760*3)\n",
    "        else:\n",
    "            return distance*1760\n",
    "print(DistanceConversor(100,\"Jarda\",\"Pé\"))"
   ]
  },
  {
   "cell_type": "code",
   "execution_count": null,
   "metadata": {},
   "outputs": [],
   "source": []
  }
 ],
 "metadata": {
  "kernelspec": {
   "display_name": "Python 3",
   "language": "python",
   "name": "python3"
  },
  "language_info": {
   "codemirror_mode": {
    "name": "ipython",
    "version": 3
   },
   "file_extension": ".py",
   "mimetype": "text/x-python",
   "name": "python",
   "nbconvert_exporter": "python",
   "pygments_lexer": "ipython3",
   "version": "3.10.4"
  }
 },
 "nbformat": 4,
 "nbformat_minor": 2
}

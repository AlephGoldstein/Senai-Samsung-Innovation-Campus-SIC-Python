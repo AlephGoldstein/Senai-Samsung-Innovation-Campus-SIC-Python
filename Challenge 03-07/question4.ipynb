{
 "cells": [
  {
   "cell_type": "code",
   "execution_count": 7,
   "metadata": {},
   "outputs": [
    {
     "name": "stdout",
     "output_type": "stream",
     "text": [
      "Hoje você tem 2014 anos, você terá em 2055 2045 anos\n"
     ]
    }
   ],
   "source": [
    "def CalcIdade():\n",
    "    anoNasci = int(input('digite seu ano de nascimento: '))\n",
    "    idade = 2024 - anoNasci\n",
    "    result = idade + (2055-2024)\n",
    "    print(f\"Hoje você tem {idade} anos, você terá em 2055 {result} anos\")\n",
    "CalcIdade()"
   ]
  },
  {
   "cell_type": "code",
   "execution_count": null,
   "metadata": {},
   "outputs": [],
   "source": []
  }
 ],
 "metadata": {
  "kernelspec": {
   "display_name": "Python 3",
   "language": "python",
   "name": "python3"
  },
  "language_info": {
   "codemirror_mode": {
    "name": "ipython",
    "version": 3
   },
   "file_extension": ".py",
   "mimetype": "text/x-python",
   "name": "python",
   "nbconvert_exporter": "python",
   "pygments_lexer": "ipython3",
   "version": "3.10.4"
  }
 },
 "nbformat": 4,
 "nbformat_minor": 2
}

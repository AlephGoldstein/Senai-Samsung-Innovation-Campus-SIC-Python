{
 "cells": [
  {
   "cell_type": "code",
   "execution_count": 7,
   "metadata": {},
   "outputs": [
    {
     "name": "stdout",
     "output_type": "stream",
     "text": [
      "Preço de fabricação $15000, Porcentagem do Distribuidor $5%, mais os impostos de $3%, resulta em $16200.0\n"
     ]
    }
   ],
   "source": [
    "def CalcValueVehicle(fabvalue,percDistri,Fees):\n",
    "    print(f\"Preço de fabricação ${fabvalue}, Porcentagem do Distribuidor ${(percDistri)}%, mais os impostos de ${(Fees)}%, resulta em ${fabvalue+(fabvalue *(percDistri/100)) + (fabvalue * (Fees/100))}\")\n",
    "CalcValueVehicle(15000,5,3)"
   ]
  }
 ],
 "metadata": {
  "kernelspec": {
   "display_name": "Python 3",
   "language": "python",
   "name": "python3"
  },
  "language_info": {
   "codemirror_mode": {
    "name": "ipython",
    "version": 3
   },
   "file_extension": ".py",
   "mimetype": "text/x-python",
   "name": "python",
   "nbconvert_exporter": "python",
   "pygments_lexer": "ipython3",
   "version": "3.10.4"
  }
 },
 "nbformat": 4,
 "nbformat_minor": 2
}

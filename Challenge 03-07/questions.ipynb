{
 "cells": [
  {
   "cell_type": "code",
   "execution_count": 6,
   "metadata": {},
   "outputs": [
    {
     "name": "stdout",
     "output_type": "stream",
     "text": [
      "81\n",
      "729\n",
      "3.0\n",
      "2.080083823051904\n"
     ]
    }
   ],
   "source": [
    "n = int(input(\"Enter a number: \"))\n",
    "if n > 0:\n",
    "    def Squared():\n",
    "        return n **2\n",
    "    print(Squared())\n",
    "\n",
    "    def Cubed():\n",
    "        return n **3\n",
    "    print(Cubed())\n",
    "\n",
    "    def root():\n",
    "        return n **(1/2)\n",
    "    print(root())\n",
    "\n",
    "    def cube_root():\n",
    "        return n **(1/3)\n",
    "    print(cube_root())"
   ]
  },
  {
   "cell_type": "code",
   "execution_count": null,
   "metadata": {},
   "outputs": [],
   "source": []
  }
 ],
 "metadata": {
  "kernelspec": {
   "display_name": "Python 3",
   "language": "python",
   "name": "python3"
  },
  "language_info": {
   "codemirror_mode": {
    "name": "ipython",
    "version": 3
   },
   "file_extension": ".py",
   "mimetype": "text/x-python",
   "name": "python",
   "nbconvert_exporter": "python",
   "pygments_lexer": "ipython3",
   "version": "3.10.4"
  }
 },
 "nbformat": 4,
 "nbformat_minor": 2
}

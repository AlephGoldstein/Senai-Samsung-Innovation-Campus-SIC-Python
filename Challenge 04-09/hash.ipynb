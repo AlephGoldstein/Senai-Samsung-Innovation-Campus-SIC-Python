{
 "cells": [
  {
   "cell_type": "code",
   "execution_count": 1,
   "metadata": {},
   "outputs": [
    {
     "name": "stdout",
     "output_type": "stream",
     "text": [
      "Livro 'O Senhor dos Anéis' adicionado com sucesso!\n",
      "Livro 'O Código Da Vinci' adicionado com sucesso!\n",
      "ISBN: 978-3-16-148410-0\n",
      "Título: O Senhor dos Anéis\n",
      "Autor: J.R.R. Tolkien\n",
      "Livro 'O Código Da Vinci' removido com sucesso.\n",
      "Livro não encontrado para remoção.\n"
     ]
    }
   ],
   "source": [
    "class Biblioteca:\n",
    "    def __init__(self):\n",
    "        # Inicializa a tabela hash (usamos um dicionário para isso)\n",
    "        self.livros = {}\n",
    "\n",
    "    def adicionar_livro(self, isbn, titulo, autor):\n",
    "        # Adiciona um livro à tabela hash\n",
    "        if isbn in self.livros:\n",
    "            print(f\"O livro com ISBN {isbn} já existe.\")\n",
    "        else:\n",
    "            self.livros[isbn] = (titulo, autor)\n",
    "            print(f\"Livro '{titulo}' adicionado com sucesso!\")\n",
    "\n",
    "    def buscar_livro(self, isbn):\n",
    "        # Busca um livro pelo ISBN\n",
    "        if isbn in self.livros:\n",
    "            titulo, autor = self.livros[isbn]\n",
    "            return f\"ISBN: {isbn}\\nTítulo: {titulo}\\nAutor: {autor}\"\n",
    "        else:\n",
    "            return \"Livro não encontrado.\"\n",
    "\n",
    "    def remover_livro(self, isbn):\n",
    "        # Remove um livro pelo ISBN\n",
    "        if isbn in self.livros:\n",
    "            titulo, autor = self.livros.pop(isbn)\n",
    "            print(f\"Livro '{titulo}' removido com sucesso.\")\n",
    "        else:\n",
    "            print(\"Livro não encontrado para remoção.\")\n",
    "\n",
    "# Exemplo de uso\n",
    "biblioteca = Biblioteca()\n",
    "\n",
    "# Adicionando livros\n",
    "biblioteca.adicionar_livro(\"978-3-16-148410-0\", \"O Senhor dos Anéis\", \"J.R.R. Tolkien\")\n",
    "biblioteca.adicionar_livro(\"978-0-7432-7356-5\", \"O Código Da Vinci\", \"Dan Brown\")\n",
    "\n",
    "# Buscando livros\n",
    "print(biblioteca.buscar_livro(\"978-3-16-148410-0\"))\n",
    "\n",
    "# Removendo livros\n",
    "biblioteca.remover_livro(\"978-0-7432-7356-5\")\n",
    "\n",
    "# Tentando remover novamente\n",
    "biblioteca.remover_livro(\"978-0-7432-7356-5\")\n"
   ]
  }
 ],
 "metadata": {
  "kernelspec": {
   "display_name": "Python 3",
   "language": "python",
   "name": "python3"
  },
  "language_info": {
   "codemirror_mode": {
    "name": "ipython",
    "version": 3
   },
   "file_extension": ".py",
   "mimetype": "text/x-python",
   "name": "python",
   "nbconvert_exporter": "python",
   "pygments_lexer": "ipython3",
   "version": "3.11.9"
  }
 },
 "nbformat": 4,
 "nbformat_minor": 2
}

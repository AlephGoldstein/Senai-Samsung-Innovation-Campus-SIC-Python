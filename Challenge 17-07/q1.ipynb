{
 "cells": [
  {
   "cell_type": "code",
   "execution_count": 1,
   "metadata": {},
   "outputs": [
    {
     "name": "stdout",
     "output_type": "stream",
     "text": [
      "O funcionário 1 tem um salário de R$ 2965.20 e fabricou 52 peças.\n",
      "O funcionário 2 tem um salário de R$ 1666.16 e fabricou 36 peças.\n",
      "O funcionário 3 tem um salário de R$ 2471.00 e fabricou 45 peças.\n",
      "A média de peças fabricadas por mulheres é 36.00.\n",
      "A média de peças fabricadas por homens é 48.50.\n",
      "O numero do funcionário com maior salário é 1 como o salario de 2965.2000000000003\n",
      "A folha de pagamento ficou em R$ 7102.36. O total de peças fabricadas foi 133.\n"
     ]
    }
   ],
   "source": [
    "c, folhaPag, TotalPeca,num_maior,maior = 0, 0, 0, 0, 0\n",
    "man = []\n",
    "fem = []\n",
    "\n",
    "\n",
    "while c < 3:\n",
    "    if type(sum) == tuple:\n",
    "        del sum\n",
    "    numFunc = int(input(\"Digite o número do funcionário: \"))\n",
    "    numPeca = int(input(\"Digite quantas peças o funcionário fabricou: \"))\n",
    "    sexo = input(\"Digite o sexo do funcionário (Masc ou Fem): \").strip().capitalize()\n",
    "    \n",
    "    if sexo not in [\"Masc\", \"Fem\"]:\n",
    "        print(\"Sexo inválido\")\n",
    "        continue\n",
    "    \n",
    "    salario = 1412  # Salário base\n",
    "\n",
    "    if numPeca <= 30:\n",
    "        classe = 1\n",
    "    elif 31 <= numPeca <= 41:\n",
    "        classe = 2\n",
    "        salario += salario * 0.03 * (numPeca - 30)\n",
    "    else:\n",
    "        classe = 3\n",
    "        salario += salario * 0.05 * (numPeca - 30)\n",
    "    \n",
    "    if sexo == \"Masc\":\n",
    "        man.append(numPeca)\n",
    "    else:\n",
    "        fem.append(numPeca)\n",
    "    if salario > maior:\n",
    "        maior = salario\n",
    "        num_maior = numFunc\n",
    "    folhaPag += salario\n",
    "    TotalPeca += numPeca \n",
    "    print(f\"O funcionário {numFunc} tem um salário de R$ {salario:.2f} e fabricou {numPeca} peças.\")\n",
    "    c += 1\n",
    "\n",
    "# Verifica se há funcionárias ou funcionários para evitar divisão por zero\n",
    "if len(fem) > 0:\n",
    "    media_fem = sum(fem) / len(fem)\n",
    "    print(f\"A média de peças fabricadas por mulheres é {media_fem:.2f}.\")\n",
    "else:\n",
    "    print(\"Não há dados suficientes para calcular a média de peças fabricadas por mulheres.\")\n",
    "\n",
    "if len(man) > 0:\n",
    "    media_masc = sum(man) / len(man)\n",
    "    print(f\"A média de peças fabricadas por homens é {media_masc:.2f}.\")\n",
    "else:\n",
    "    print(\"Não há dados suficientes para calcular a média de peças fabricadas por homens.\")\n",
    "print(f\"O numero do funcionário com maior salário é {num_maior} como o salario de {maior:.2f}\")\n",
    "print(f\"A folha de pagamento ficou em R$ {folhaPag:.2f}. O total de peças fabricadas foi {TotalPeca}.\")\n"
   ]
  },
  {
   "cell_type": "code",
   "execution_count": null,
   "metadata": {},
   "outputs": [],
   "source": []
  }
 ],
 "metadata": {
  "kernelspec": {
   "display_name": "Python 3",
   "language": "python",
   "name": "python3"
  },
  "language_info": {
   "codemirror_mode": {
    "name": "ipython",
    "version": 3
   },
   "file_extension": ".py",
   "mimetype": "text/x-python",
   "name": "python",
   "nbconvert_exporter": "python",
   "pygments_lexer": "ipython3",
   "version": "3.10.4"
  }
 },
 "nbformat": 4,
 "nbformat_minor": 2
}

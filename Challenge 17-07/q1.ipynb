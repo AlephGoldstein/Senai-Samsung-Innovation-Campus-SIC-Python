{
 "cells": [
  {
   "cell_type": "code",
   "execution_count": 8,
   "metadata": {},
   "outputs": [
    {
     "name": "stdout",
     "output_type": "stream",
     "text": [
      "O funcionario 1 seu salario é 1412.00, fez 26 peças\n",
      "O funcionario 32 seu salario é 1497.99, fez 32 peças\n",
      "O funcionario 3 seu salario é 1897.61, fez 40 peças\n",
      "A média de peças fabricadas por mulheres é 32.0\n",
      "A média de peças fabricadas por homens é 33.0\n",
      "A folha de pagamento ficou em 4807.60, o total de peças 98,\n"
     ]
    }
   ],
   "source": [
    "c = 0\n",
    "folhaPag = 0\n",
    "TotalPeca = 0\n",
    "man = []\n",
    "fem = []\n",
    "while c < 3:\n",
    "    numFunc = int(input(\"Digite o numero do funcionario: \"))\n",
    "    numPeca = int(input(\"Digite quantas peças o funcionario fabricou: \"))\n",
    "    sexo = input(\"Digite o sexo do funcionário, (Masc) (Fem): \")\n",
    "    classe = 0\n",
    "    salario = 1412  \n",
    "    if numPeca <= 30:\n",
    "        classe = 1\n",
    "    elif numPeca >= 31 and numPeca <= 41:\n",
    "        classe = 2\n",
    "        cont = numPeca \n",
    "        while cont > 30:\n",
    "            salario += salario*0.03\n",
    "            cont = cont - 1\n",
    "    else:\n",
    "        classe = 3\n",
    "        cont = numPeca \n",
    "        while cont > 30:\n",
    "            salario += salario*0.05\n",
    "            cont = cont - 1\n",
    "    if sexo == \"Masc\":\n",
    "        man.append(numPeca)\n",
    "    else:\n",
    "        fem.append(numPeca)  \n",
    "    folhaPag += salario\n",
    "    TotalPeca += numPeca\n",
    "    print(f\"O funcionario {numFunc} seu salario é {salario:.2f}, fez {numPeca} peças\")\n",
    "    c+=1\n",
    "sum = 0\n",
    "for i in man:\n",
    "     sum += i\n",
    "soma = 0\n",
    "for c in fem:\n",
    "     soma += c\n",
    "print(f\"A média de peças fabricadas por mulheres é {soma/len(fem)}\")\n",
    "print(f\"A média de peças fabricadas por homens é {sum/len(man)}\")\n",
    "\n",
    "\n",
    "print(f\"A folha de pagamento ficou em {folhaPag:.2f}, o total de peças {TotalPeca},\")"
   ]
  },
  {
   "cell_type": "code",
   "execution_count": null,
   "metadata": {},
   "outputs": [],
   "source": []
  }
 ],
 "metadata": {
  "kernelspec": {
   "display_name": "Python 3",
   "language": "python",
   "name": "python3"
  },
  "language_info": {
   "codemirror_mode": {
    "name": "ipython",
    "version": 3
   },
   "file_extension": ".py",
   "mimetype": "text/x-python",
   "name": "python",
   "nbconvert_exporter": "python",
   "pygments_lexer": "ipython3",
   "version": "3.10.4"
  }
 },
 "nbformat": 4,
 "nbformat_minor": 2
}

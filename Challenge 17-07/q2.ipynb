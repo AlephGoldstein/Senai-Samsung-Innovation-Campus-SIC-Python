{
 "cells": [
  {
   "cell_type": "code",
   "execution_count": 7,
   "metadata": {},
   "outputs": [
    {
     "name": "stdout",
     "output_type": "stream",
     "text": [
      "Valor da divida ----Valor do Juros----Quantidade de Parcelas\n",
      "3589.3        |       0.1      |      3\n"
     ]
    }
   ],
   "source": [
    "def Emprestimo(valor,parc):\n",
    "    juros = {1:0,3:10,6:15,9:20,12:25}\n",
    "    print(\"Valor da divida ----Valor do Juros----Quantidade de Parcelas\")\n",
    "    print(f\"{valor + (valor * (juros[parc]/100))}        |       {juros[parc]/100}      |      {parc}\")\n",
    "Emprestimo(int(input(\"Digite o valor: \")), int(input(\"Quantas parcelas: \")))"
   ]
  }
 ],
 "metadata": {
  "kernelspec": {
   "display_name": "Python 3",
   "language": "python",
   "name": "python3"
  },
  "language_info": {
   "codemirror_mode": {
    "name": "ipython",
    "version": 3
   },
   "file_extension": ".py",
   "mimetype": "text/x-python",
   "name": "python",
   "nbconvert_exporter": "python",
   "pygments_lexer": "ipython3",
   "version": "3.10.4"
  }
 },
 "nbformat": 4,
 "nbformat_minor": 2
}

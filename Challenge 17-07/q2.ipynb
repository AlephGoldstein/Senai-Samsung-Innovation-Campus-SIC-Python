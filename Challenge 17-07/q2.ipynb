{
 "cells": [
  {
   "cell_type": "code",
   "execution_count": 3,
   "metadata": {},
   "outputs": [
    {
     "name": "stdout",
     "output_type": "stream",
     "text": [
      "\n",
      "VALOR DA DÍVIDA     VALOR DOS JUROS     QUANTIDADE DE PARCELAS   VALOR DA PARCELA    \n",
      "-------------------------------------------------------------------------------------\n",
      "R$ 1,000.00  R$ 0.0                   1                       R$ 1,000.00\n",
      "R$ 1,000.00  R$ 100.0                 3                       R$ 366.67\n",
      "R$ 1,000.00  R$ 150.0                 6                       R$ 191.67\n",
      "R$ 1,000.00  R$ 200.0                 9                       R$ 133.33\n",
      "R$ 1,000.00  R$ 250.0                 12                      R$ 104.17\n"
     ]
    }
   ],
   "source": [
    "def calcular_valor_parcela(valor_divida, juros_percentual, parcelas):\n",
    "    valor_total = valor_divida * (1 + juros_percentual / 100)\n",
    "    return valor_total / parcelas\n",
    "def main():\n",
    "    valor_divida = float(input(\"Digite o valor da dívida: R$ \"))\n",
    "    tabela_juros = {\n",
    "        1: 0,\n",
    "        3: 10,\n",
    "        6: 15,\n",
    "        9: 20,\n",
    "        12: 25\n",
    "    }\n",
    "    print(f\"\\n{'VALOR DA DÍVIDA':<20}{'VALOR DOS JUROS':<20}{'QUANTIDADE DE PARCELAS':<25}{'VALOR DA PARCELA':<20}\")\n",
    "    print('-' * 85)\n",
    "    for parcelas, juros_percentual in tabela_juros.items():\n",
    "        valor_juros = valor_divida * (juros_percentual / 100)\n",
    "        valor_parcela = calcular_valor_parcela(valor_divida, juros_percentual, parcelas)\n",
    "        print(f\"R$ {valor_divida:,.2f} \"\n",
    "f\" R$ {valor_juros:<10} \"\n",
    "              f\"           {parcelas:<15} \"\n",
    "              f\"        R$ {valor_parcela:,.2f}\")\n",
    "if __name__ == \"__main__\":\n",
    "    main()\n"
   ]
  }
 ],
 "metadata": {
  "kernelspec": {
   "display_name": "Python 3",
   "language": "python",
   "name": "python3"
  },
  "language_info": {
   "codemirror_mode": {
    "name": "ipython",
    "version": 3
   },
   "file_extension": ".py",
   "mimetype": "text/x-python",
   "name": "python",
   "nbconvert_exporter": "python",
   "pygments_lexer": "ipython3",
   "version": "3.10.4"
  }
 },
 "nbformat": 4,
 "nbformat_minor": 2
}

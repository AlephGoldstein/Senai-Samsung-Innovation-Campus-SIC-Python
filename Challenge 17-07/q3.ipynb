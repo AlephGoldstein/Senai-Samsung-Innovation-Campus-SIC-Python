{
 "cells": [
  {
   "cell_type": "code",
   "execution_count": null,
   "metadata": {},
   "outputs": [],
   "source": [
    "barat0 = []\n",
    "while resp != \"STOP\":\n",
    "    resp = input(\"Continuar ou Parar? (STOP)\")\n",
    "    precoUnit = int(input(\"Qual o preço do produto\"))\n",
    "    Refrigeracao = input(\"Requer refrigeração ou não (S) (N)\")\n",
    "    Categoria = input(\"Qual categoria: (A)(L) OU (V)\")\n",
    "    if precoUnit < 20:\n",
    "        categ = {\"A\":2, \"L\":3,\"V\":4}\n",
    "        custo = categ[Categoria]+precoUnit + precoUnit*0.02\n",
    "    elif precoUnit >= 20 and precoUnit < 50:\n",
    "        categ = {\"S\":6,\"N\":0}\n",
    "        custo = categ[Refrigeracao]+precoUnit + precoUnit*0.02\n",
    "    elif precoUnit > 50:\n",
    "        categ = {\"S\":{\"A\":5, \"L\":2,\"V\":4},\"N\":{\"A\":0,\"L\":1,\"V\":0}}\n",
    "        custo = categ[Refrigeracao][Categoria]+precoUnit + precoUnit*0.02\n",
    "    if custo < 20:\n",
    "        barato.append(custo)\n",
    "        "
   ]
  }
 ],
 "metadata": {
  "language_info": {
   "name": "python"
  }
 },
 "nbformat": 4,
 "nbformat_minor": 2
}

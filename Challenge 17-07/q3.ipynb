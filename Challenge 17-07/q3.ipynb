{
 "cells": [
  {
   "cell_type": "markdown",
   "metadata": {},
   "source": [
    "<h1>Classificação de produtos</h1>"
   ]
  },
  {
   "cell_type": "code",
   "execution_count": 2,
   "metadata": {},
   "outputs": [
    {
     "name": "stdout",
     "output_type": "stream",
     "text": [
      "O produto é caro\n",
      "O produto é normal\n",
      "O produto é barato\n",
      "Produtos baratos: 1\n",
      "Produtos normais: 1\n",
      "Produtos caros: 1\n",
      "Maior custo: 161.08\n",
      "Menor custo: 14.24\n"
     ]
    }
   ],
   "source": [
    "resp,barato, normal, caro = \"\",0, 0, 0\n",
    "maior, menor = 0, float('inf')\n",
    "categ_a = {\"A\": 2, \"L\": 3, \"V\": 4}\n",
    "categ_s_n = {\"S\": 6, \"N\": 0}\n",
    "categ_s_n_a_l_v = {\n",
    "    \"S\": {\"A\": 5, \"L\": 2, \"V\": 4},\n",
    "    \"N\": {\"A\": 0, \"L\": 1, \"V\": 0}\n",
    "}\n",
    "while resp.upper() != \"STOP\":\n",
    "    resp = input(\"Continuar ou Parar? (STOP) \")\n",
    "    if resp.upper() == \"STOP\":\n",
    "        break\n",
    "    precoUnit = int(input(\"Qual o preço do produto: \"))\n",
    "    Refrigeracao = input(\"Requer refrigeração ou não (S) (N): \").upper()\n",
    "    Categoria = input(\"Qual categoria: (A)(L) OU (V): \").upper()\n",
    "    if precoUnit < 20:\n",
    "        custo = categ_a[Categoria] + precoUnit + precoUnit * 0.02\n",
    "    elif 20 <= precoUnit < 50:\n",
    "        custo = categ_s_n[Refrigeracao] + precoUnit + precoUnit * 0.02\n",
    "    else:\n",
    "        custo = categ_s_n_a_l_v[Refrigeracao][Categoria] + precoUnit + precoUnit * 0.02\n",
    "    if custo < 20:\n",
    "        print(\"O produto é barato\")\n",
    "        barato += 1\n",
    "    elif 20 <= custo < 100:\n",
    "        print(\"O produto é normal\")\n",
    "        normal += 1\n",
    "    else:\n",
    "        print(\"O produto é caro\")\n",
    "        caro += 1\n",
    "    if custo > maior:\n",
    "        maior = custo\n",
    "    if custo < menor:\n",
    "        menor = custo\n",
    "print(f\"Produtos baratos: {barato}\")\n",
    "print(f\"Produtos normais: {normal}\")\n",
    "print(f\"Produtos caros: {caro}\")\n",
    "print(f\"Maior custo: {maior}\")\n",
    "print(f\"Menor custo: {menor}\")\n"
   ]
  }
 ],
 "metadata": {
  "kernelspec": {
   "display_name": "Python 3",
   "language": "python",
   "name": "python3"
  },
  "language_info": {
   "codemirror_mode": {
    "name": "ipython",
    "version": 3
   },
   "file_extension": ".py",
   "mimetype": "text/x-python",
   "name": "python",
   "nbconvert_exporter": "python",
   "pygments_lexer": "ipython3",
   "version": "3.10.4"
  }
 },
 "nbformat": 4,
 "nbformat_minor": 2
}

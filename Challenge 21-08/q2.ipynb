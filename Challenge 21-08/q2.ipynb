{
 "cells": [
  {
   "cell_type": "code",
   "execution_count": 11,
   "metadata": {},
   "outputs": [
    {
     "name": "stdout",
     "output_type": "stream",
     "text": [
      "5\n",
      "7\n",
      "9\n"
     ]
    }
   ],
   "source": [
    "def contador(inicio,fim,passo):\n",
    "    i = inicio\n",
    "    while i <= fim:\n",
    "        print(i)\n",
    "        i += passo\n",
    "inicio = int(input(\"Digite um numero de inicio\"))\n",
    "fim = int(input(\"Digite um numero de fim\"))\n",
    "passo = int(input(\"Digite o passo\"))  \n",
    "contador(inicio,fim,passo)"
   ]
  }
 ],
 "metadata": {
  "kernelspec": {
   "display_name": "Python 3",
   "language": "python",
   "name": "python3"
  },
  "language_info": {
   "codemirror_mode": {
    "name": "ipython",
    "version": 3
   },
   "file_extension": ".py",
   "mimetype": "text/x-python",
   "name": "python",
   "nbconvert_exporter": "python",
   "pygments_lexer": "ipython3",
   "version": "3.10.4"
  }
 },
 "nbformat": 4,
 "nbformat_minor": 2
}

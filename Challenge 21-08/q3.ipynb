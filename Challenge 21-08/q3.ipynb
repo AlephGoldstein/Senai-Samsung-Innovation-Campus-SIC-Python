{
 "cells": [
  {
   "cell_type": "code",
   "execution_count": 3,
   "metadata": {},
   "outputs": [
    {
     "name": "stdout",
     "output_type": "stream",
     "text": [
      "o maior numero é 362\n"
     ]
    }
   ],
   "source": [
    "def maior(valor):\n",
    "    maior = 0\n",
    "    for i in valor:\n",
    "        if i > maior:\n",
    "            maior = i\n",
    "    print(f\"o maior numero é {maior}\")\n",
    "listnum = []\n",
    "for i in range(5):\n",
    "    num = int(input(\"Digite um numero\"))\n",
    "    listnum.append(num)\n",
    "maior(listnum)\n",
    "\n",
    "\n"
   ]
  }
 ],
 "metadata": {
  "kernelspec": {
   "display_name": "Python 3",
   "language": "python",
   "name": "python3"
  },
  "language_info": {
   "codemirror_mode": {
    "name": "ipython",
    "version": 3
   },
   "file_extension": ".py",
   "mimetype": "text/x-python",
   "name": "python",
   "nbconvert_exporter": "python",
   "pygments_lexer": "ipython3",
   "version": "3.10.4"
  }
 },
 "nbformat": 4,
 "nbformat_minor": 2
}

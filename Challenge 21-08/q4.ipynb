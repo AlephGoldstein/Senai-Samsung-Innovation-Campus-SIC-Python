{
 "cells": [
  {
   "cell_type": "code",
   "execution_count": 11,
   "metadata": {},
   "outputs": [
    {
     "name": "stdout",
     "output_type": "stream",
     "text": [
      "[25]\n",
      "[25, 28]\n",
      "[25, 28, 38]\n",
      "[25, 28, 38, 42]\n",
      "[25, 28, 38, 42, 36]\n",
      "144\n"
     ]
    }
   ],
   "source": [
    "import random\n",
    "numeros = []\n",
    "def sorteia():\n",
    "    for i in range(5):\n",
    "        numeros.append(random.randint(1,55))\n",
    "        print(numeros)\n",
    "    somaPar(numeros)\n",
    "def somaPar(numeros):\n",
    "    soma = 0\n",
    "    for i in numeros:\n",
    "        if i % 2 == 0:\n",
    "            soma += i\n",
    "    print(soma)\n",
    "sorteia()\n"
   ]
  }
 ],
 "metadata": {
  "kernelspec": {
   "display_name": "Python 3",
   "language": "python",
   "name": "python3"
  },
  "language_info": {
   "codemirror_mode": {
    "name": "ipython",
    "version": 3
   },
   "file_extension": ".py",
   "mimetype": "text/x-python",
   "name": "python",
   "nbconvert_exporter": "python",
   "pygments_lexer": "ipython3",
   "version": "3.10.4"
  }
 },
 "nbformat": 4,
 "nbformat_minor": 2
}

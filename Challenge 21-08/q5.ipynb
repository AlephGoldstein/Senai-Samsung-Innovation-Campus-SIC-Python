{
 "cells": [
  {
   "cell_type": "code",
   "execution_count": 10,
   "metadata": {},
   "outputs": [
    {
     "name": "stdout",
     "output_type": "stream",
     "text": [
      "120\n",
      "720\n",
      "5040\n"
     ]
    }
   ],
   "source": [
    "def fatorial(n1,n2,n3):\n",
    "    fatorial1 = 1\n",
    "    i = 1\n",
    "    while i <= n1:\n",
    "        fatorial1 = fatorial1 * i\n",
    "        i += 1\n",
    "    print(fatorial1)\n",
    "    fatorial2 = 1\n",
    "    c = 1\n",
    "    while c <= n2:\n",
    "        fatorial2 = fatorial2 * c\n",
    "        c += 1\n",
    "    print(fatorial2)\n",
    "    fatorial3 = 1\n",
    "    co = 1\n",
    "    while co <= n3:\n",
    "        fatorial3 = fatorial3 * co\n",
    "        co += 1\n",
    "    print(fatorial3)\n",
    "fatorial(5,6,7)\n",
    "\n"
   ]
  }
 ],
 "metadata": {
  "kernelspec": {
   "display_name": "Python 3",
   "language": "python",
   "name": "python3"
  },
  "language_info": {
   "codemirror_mode": {
    "name": "ipython",
    "version": 3
   },
   "file_extension": ".py",
   "mimetype": "text/x-python",
   "name": "python",
   "nbconvert_exporter": "python",
   "pygments_lexer": "ipython3",
   "version": "3.10.4"
  }
 },
 "nbformat": 4,
 "nbformat_minor": 2
}

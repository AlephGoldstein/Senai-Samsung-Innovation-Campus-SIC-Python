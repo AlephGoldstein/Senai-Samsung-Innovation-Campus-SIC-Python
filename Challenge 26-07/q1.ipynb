{
 "cells": [
  {
   "cell_type": "code",
   "execution_count": 6,
   "metadata": {},
   "outputs": [
    {
     "name": "stdout",
     "output_type": "stream",
     "text": [
      "1\n",
      "3\n",
      "6\n",
      "10\n",
      "15\n",
      "21\n",
      "28\n",
      "36\n",
      "45\n",
      "55\n",
      "66\n",
      "78\n",
      "91\n",
      "105\n"
     ]
    }
   ],
   "source": [
    "\n",
    "#m = int(input('Digite o numero inicial: '))\n",
    "#n = int(input(\"Digite o numero final\"))\n",
    "#while m < n:\n",
    "#    soma = 0\n",
    "#   for i in range(m,n):\n",
    "#        soma += i\n",
    "#    print(soma)\n",
    "#    m = int(input('Digite o numero inicial: '))\n",
    "#    n = int(input(\"Digite o numero final\"))\n",
    "\n",
    "m = int(input('Digite o numero inicial: '))\n",
    "n = int(input(\"Digite o numero final\"))\n",
    "soma = 0\n",
    "for i in range(m,n+1):\n",
    "    soma += i\n",
    "    print(soma)\n"
   ]
  }
 ],
 "metadata": {
  "kernelspec": {
   "display_name": "Python 3",
   "language": "python",
   "name": "python3"
  },
  "language_info": {
   "codemirror_mode": {
    "name": "ipython",
    "version": 3
   },
   "file_extension": ".py",
   "mimetype": "text/x-python",
   "name": "python",
   "nbconvert_exporter": "python",
   "pygments_lexer": "ipython3",
   "version": "3.11.9"
  }
 },
 "nbformat": 4,
 "nbformat_minor": 2
}

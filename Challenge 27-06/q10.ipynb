{
 "cells": [
  {
   "cell_type": "code",
   "execution_count": null,
   "metadata": {},
   "outputs": [],
   "source": [
    "def calcCircle():\n",
    "    r = float(input(\"Digite o valor do raio: \"))\n",
    "    pi = 3.141592\n",
    "    return pi * (r ** 2)\n",
    "print(\"A área do círculo é: \", calcCircle())"
   ]
  },
  {
   "cell_type": "code",
   "execution_count": null,
   "metadata": {},
   "outputs": [],
   "source": []
  }
 ],
 "metadata": {
  "language_info": {
   "name": "python"
  }
 },
 "nbformat": 4,
 "nbformat_minor": 2
}

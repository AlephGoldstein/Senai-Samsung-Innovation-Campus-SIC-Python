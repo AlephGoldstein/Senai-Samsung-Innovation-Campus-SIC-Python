{
 "cells": [
  {
   "cell_type": "code",
   "execution_count": 1,
   "metadata": {},
   "outputs": [
    {
     "name": "stdout",
     "output_type": "stream",
     "text": [
      "{'Fabio': 62, 'Luis': 24, 'Jessica': 69, 'Tercio': 27, 'allan': 18}\n",
      "['Jessica', 'Fabio', 'Luis', 'Tercio', 'allan']\n",
      "['Fabio', 'Luis', 'Tercio', 'allan']\n",
      "['Luis', 'Tercio', 'allan']\n",
      "['Tercio', 'allan']\n",
      "['allan']\n"
     ]
    }
   ],
   "source": [
    "clientes = {}\n",
    "fila = []\n",
    "cont = 0\n",
    "for i in range(5):\n",
    "    nome = input(\"Digite o nome do cliente: \")\n",
    "    idade = int(input(\"Digite a idade do cliente: \"))\n",
    "    clientes[nome] = idade\n",
    "print(clientes)\n",
    "for c in clientes:\n",
    "    if clientes[c] >= 60:\n",
    "        fila.insert(0, c)   \n",
    "    else:\n",
    "        fila.append(c)\n",
    "while cont <= len(fila)+1:\n",
    "    print(fila)\n",
    "    fila.pop(0) \n",
    "    cont += 1\n",
    "print(fila) "
   ]
  }
 ],
 "metadata": {
  "kernelspec": {
   "display_name": "Python 3",
   "language": "python",
   "name": "python3"
  },
  "language_info": {
   "codemirror_mode": {
    "name": "ipython",
    "version": 3
   },
   "file_extension": ".py",
   "mimetype": "text/x-python",
   "name": "python",
   "nbconvert_exporter": "python",
   "pygments_lexer": "ipython3",
   "version": "3.10.4"
  }
 },
 "nbformat": 4,
 "nbformat_minor": 2
}

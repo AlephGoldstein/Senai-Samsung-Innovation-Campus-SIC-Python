{
 "cells": [
  {
   "cell_type": "code",
   "execution_count": 5,
   "metadata": {},
   "outputs": [
    {
     "name": "stdout",
     "output_type": "stream",
     "text": [
      "[(3, 2), (1, 3), (3, 4), (6, 6), (8, 1)]\n",
      "Parabens voce acertou\n",
      "Voce errou\n",
      "Voce errou\n",
      "Voce errou\n",
      "Voce errou\n"
     ]
    }
   ],
   "source": [
    "import random\n",
    "minha_lista = []\n",
    "n1 , n2 = 0, 0\n",
    "for i in range(5):\n",
    "    minha_lista.append((random.randint(1,9),random.randint(1,9)))\n",
    "print(minha_lista)\n",
    "n1 = int(input(\"Digite um numero: \"))\n",
    "n2 = int(input(\"Digite outro numero: \"))\n",
    "resul = (n1,n2)\n",
    "for i in minha_lista:\n",
    "    if i == resul:\n",
    "        print(\"Parabens voce acertou o conjunto (a,b)\")\n",
    "        \n"
   ]
  }
 ],
 "metadata": {
  "kernelspec": {
   "display_name": "Python 3",
   "language": "python",
   "name": "python3"
  },
  "language_info": {
   "codemirror_mode": {
    "name": "ipython",
    "version": 3
   },
   "file_extension": ".py",
   "mimetype": "text/x-python",
   "name": "python",
   "nbconvert_exporter": "python",
   "pygments_lexer": "ipython3",
   "version": "3.11.9"
  }
 },
 "nbformat": 4,
 "nbformat_minor": 2
}

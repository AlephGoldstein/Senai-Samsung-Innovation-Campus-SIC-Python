{
 "cells": [
  {
   "cell_type": "code",
   "execution_count": 12,
   "metadata": {},
   "outputs": [
    {
     "name": "stdout",
     "output_type": "stream",
     "text": [
      "[(5, 9), (5, 2), (5, 7), (5, 1), (5, 3)]\n"
     ]
    },
    {
     "name": "stdout",
     "output_type": "stream",
     "text": [
      "Parabéns, você acertou o conjunto (a,b) na posição 0\n",
      "Não acertou na posição 1\n",
      "Não acertou na posição 2\n",
      "Não acertou na posição 3\n",
      "Não acertou na posição 4\n"
     ]
    }
   ],
   "source": [
    "import random\n",
    "\n",
    "minha_lista = []\n",
    "c = 0\n",
    "\n",
    "# Gerando uma lista de tuplas com números aleatórios\n",
    "for i in range(5):\n",
    "    minha_lista.append((random.randint(1, 9), random.randint(1, 9)))\n",
    "\n",
    "print(minha_lista)\n",
    "\n",
    "# Solicitando a entrada do usuário\n",
    "n1 = int(input(\"Digite um número: \"))\n",
    "n2 = int(input(\"Digite outro número: \"))\n",
    "resul = (n1, n2)\n",
    "resul_invertido = (n2, n1)  # Criando a tupla com a ordem inversa\n",
    "\n",
    "# Verificando se a tupla existe na lista, e em qual ordem\n",
    "for i in minha_lista:\n",
    "    if i == resul:\n",
    "        print(f\"Parabéns, você acertou o conjunto (a,b) na posição {c}\")\n",
    "    elif i == resul_invertido:\n",
    "        print(f\"Você acertou o conjunto, mas a ordem é (b,a) na posição {c}\")\n",
    "    else:\n",
    "        print(f\"Não acertou na posição {c}\")\n",
    "    c += 1\n"
   ]
  }
 ],
 "metadata": {
  "kernelspec": {
   "display_name": "Python 3",
   "language": "python",
   "name": "python3"
  },
  "language_info": {
   "codemirror_mode": {
    "name": "ipython",
    "version": 3
   },
   "file_extension": ".py",
   "mimetype": "text/x-python",
   "name": "python",
   "nbconvert_exporter": "python",
   "pygments_lexer": "ipython3",
   "version": "3.11.9"
  }
 },
 "nbformat": 4,
 "nbformat_minor": 2
}

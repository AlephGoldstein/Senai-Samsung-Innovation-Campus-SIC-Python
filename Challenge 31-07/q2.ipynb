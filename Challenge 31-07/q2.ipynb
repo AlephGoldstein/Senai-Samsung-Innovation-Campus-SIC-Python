{
 "cells": [
  {
   "cell_type": "code",
   "execution_count": 5,
   "metadata": {},
   "outputs": [
    {
     "name": "stdout",
     "output_type": "stream",
     "text": [
      "O carro Fuscas consome 8 litros\n",
      "em 1000 km esse carro consome 125.00 litros\n",
      "O carro Gol consome 10 litros\n",
      "em 1000 km esse carro consome 100.00 litros\n",
      "O carro Vectra consome 11 litros\n",
      "em 1000 km esse carro consome 90.91 litros\n",
      "O carro Onix consome 9 litros\n",
      "em 1000 km esse carro consome 111.11 litros\n",
      "O carro Siena consome 9 litros\n",
      "em 1000 km esse carro consome 111.11 litros\n"
     ]
    }
   ],
   "source": [
    "carros = [\"Fuscas\", \"Gol\", \"Vectra\", \"Onix\", \"Siena\"]\n",
    "consuGas = [8,10,11,9,9]\n",
    "econ = 0\n",
    "for i in range(0,len(carros)):\n",
    "    if consuGas[i] > 0:\n",
    "        econ = carros[i]\n",
    "    print(f\"O carro {carros[i]} consome {consuGas[i]} litros\")\n",
    "    print(f\"em 1000 km esse carro consome {1000/consuGas[i]:.2f} litros\")\n",
    "\n"
   ]
  }
 ],
 "metadata": {
  "kernelspec": {
   "display_name": "Python 3",
   "language": "python",
   "name": "python3"
  },
  "language_info": {
   "codemirror_mode": {
    "name": "ipython",
    "version": 3
   },
   "file_extension": ".py",
   "mimetype": "text/x-python",
   "name": "python",
   "nbconvert_exporter": "python",
   "pygments_lexer": "ipython3",
   "version": "3.10.4"
  }
 },
 "nbformat": 4,
 "nbformat_minor": 2
}

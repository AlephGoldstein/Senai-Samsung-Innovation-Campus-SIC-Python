{
 "cells": [
  {
   "cell_type": "code",
   "execution_count": 12,
   "metadata": {},
   "outputs": [
    {
     "name": "stdout",
     "output_type": "stream",
     "text": [
      "O carro Vectra consome 9 litros/km\n",
      "em 1000 km esse carro consome 111.11 litros, o que custa 650.0\n",
      "O carro Nixus consome 15 litros/km\n",
      "em 1000 km esse carro consome 66.67 litros, o que custa 390.0\n",
      "O carro Siena consome 11 litros/km\n",
      "em 1000 km esse carro consome 90.91 litros, o que custa 531.8181818181818\n",
      "O carro Opala consome 2 litros/km\n",
      "em 1000 km esse carro consome 500.00 litros, o que custa 2925.0\n",
      "O carro Porche consome 6 litros/km\n",
      "em 1000 km esse carro consome 166.67 litros, o que custa 974.9999999999999\n",
      "o carro mais economico é Nixus, com um consumo de 15\n"
     ]
    }
   ],
   "source": [
    "carros,consuGas = [],[]\n",
    "for c in range(5):\n",
    "    carro = input(\"Digite um modelo de carro:\")\n",
    "    consumo = int(input(\"Digite quantos km por litro o carro faz: \"))\n",
    "    carros.append(carro)\n",
    "    consuGas.append(consumo)\n",
    "econ,valorEcon,precoGas = 0,0,5.85\n",
    "for i in range(0,len(carros)):\n",
    "    if consuGas[i] > valorEcon:\n",
    "        econ = carros[i]\n",
    "        valorEcon = consuGas[i]\n",
    "    consumoMil = 1000/consuGas[i]\n",
    "    print(f\"O carro {carros[i]} consome {consuGas[i]} litros/km\")\n",
    "    print(f\"em 1000 km esse carro consome {consumoMil:.2f} litros, o que custa {precoGas * consumoMil}\")\n",
    "print(f\"o carro mais economico é {econ}, com um consumo de {valorEcon}\")\n",
    "\n"
   ]
  }
 ],
 "metadata": {
  "kernelspec": {
   "display_name": "Python 3",
   "language": "python",
   "name": "python3"
  },
  "language_info": {
   "codemirror_mode": {
    "name": "ipython",
    "version": 3
   },
   "file_extension": ".py",
   "mimetype": "text/x-python",
   "name": "python",
   "nbconvert_exporter": "python",
   "pygments_lexer": "ipython3",
   "version": "3.10.4"
  }
 },
 "nbformat": 4,
 "nbformat_minor": 2
}

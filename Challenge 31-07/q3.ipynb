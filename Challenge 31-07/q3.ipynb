{
 "cells": [
  {
   "cell_type": "code",
   "execution_count": 12,
   "metadata": {},
   "outputs": [
    {
     "name": "stdout",
     "output_type": "stream",
     "text": [
      "------------------------------------\n",
      "O que deseja fazer?\n",
      "1 - Depositar\n",
      "2 - Sacar\n",
      "3 - Verificar saldo total\n",
      "4 - Sair\n",
      "------------------------------------\n"
     ]
    }
   ],
   "source": [
    "nums_accs,saldos = [],[]\n",
    "for i in range(1):\n",
    "    num_acc = int(input(\"Digite sua conta: \"))\n",
    "    saldo = int(input(\"Digite o quanto de dinheiro possui: \"))\n",
    "    saldos.append(saldo)\n",
    "    while num_acc in nums_accs:\n",
    "        print(\"Conta já existe, tente outra\")\n",
    "        num_acc = int(input(\"Digite sua conta: \")) \n",
    "    nums_accs.append(num_acc)\n",
    "print(\"---\"*12)\n",
    "print(\"O que deseja fazer?\")\n",
    "print(\"1 - Depositar\")\n",
    "print(\"2 - Sacar\")\n",
    "print(\"3 - Verificar saldo total\")\n",
    "print(\"4 - Sair\")\n",
    "print(\"---\"*12)\n",
    "op = int(input(\"Digite a opção desejada: \"))\n",
    "if op == 1:\n",
    "    acc = int(input(\"Digite a conta que deseja depositar:\"))\n",
    "    if acc in nums_accs:\n",
    "        valor = int(input(\"Qual o valor: \"))\n",
    "        pos = nums_accs.index(acc)\n",
    "        if valor > 0:\n",
    "            saldos[pos] += valor\n",
    "    else:\n",
    "        print(\"Conta não encontrada\")\n",
    "\n"
   ]
  }
 ],
 "metadata": {
  "kernelspec": {
   "display_name": "Python 3",
   "language": "python",
   "name": "python3"
  },
  "language_info": {
   "codemirror_mode": {
    "name": "ipython",
    "version": 3
   },
   "file_extension": ".py",
   "mimetype": "text/x-python",
   "name": "python",
   "nbconvert_exporter": "python",
   "pygments_lexer": "ipython3",
   "version": "3.10.4"
  }
 },
 "nbformat": 4,
 "nbformat_minor": 2
}

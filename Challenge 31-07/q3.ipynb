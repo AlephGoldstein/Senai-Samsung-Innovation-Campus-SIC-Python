{
 "cells": [
  {
   "cell_type": "code",
   "execution_count": 1,
   "metadata": {},
   "outputs": [
    {
     "name": "stdout",
     "output_type": "stream",
     "text": [
      "Por favor, digite um número válido.\n",
      "Por favor, digite um número válido.\n",
      "Por favor, digite um número válido.\n",
      "Por favor, digite um número válido.\n",
      "Por favor, digite um número válido.\n",
      "Por favor, digite um número válido.\n",
      "Por favor, digite um número válido.\n",
      "Conta já existe, tente outra\n",
      "Conta já existe, tente outra\n",
      "Por favor, digite um número válido.\n",
      "Por favor, digite um número válido.\n",
      "Por favor, digite um número válido.\n",
      "Por favor, digite um número válido.\n",
      "Por favor, digite um número válido.\n",
      "Por favor, digite um número válido.\n",
      "Por favor, digite um número válido.\n",
      "Por favor, digite um número válido.\n"
     ]
    },
    {
     "ename": "KeyboardInterrupt",
     "evalue": "Interrupted by user",
     "output_type": "error",
     "traceback": [
      "\u001b[1;31m---------------------------------------------------------------------------\u001b[0m",
      "\u001b[1;31mKeyboardInterrupt\u001b[0m                         Traceback (most recent call last)",
      "Cell \u001b[1;32mIn[1], line 7\u001b[0m\n\u001b[0;32m      5\u001b[0m \u001b[38;5;28;01mwhile\u001b[39;00m \u001b[38;5;28;01mTrue\u001b[39;00m:\n\u001b[0;32m      6\u001b[0m     \u001b[38;5;28;01mtry\u001b[39;00m:\n\u001b[1;32m----> 7\u001b[0m         num_acc \u001b[38;5;241m=\u001b[39m \u001b[38;5;28mint\u001b[39m(\u001b[38;5;28;43minput\u001b[39;49m\u001b[43m(\u001b[49m\u001b[38;5;124;43m\"\u001b[39;49m\u001b[38;5;124;43mDigite sua conta: \u001b[39;49m\u001b[38;5;124;43m\"\u001b[39;49m\u001b[43m)\u001b[49m)\n\u001b[0;32m      8\u001b[0m         \u001b[38;5;28;01mif\u001b[39;00m num_acc \u001b[38;5;129;01min\u001b[39;00m saldos:\n\u001b[0;32m      9\u001b[0m             \u001b[38;5;28mprint\u001b[39m(\u001b[38;5;124m\"\u001b[39m\u001b[38;5;124mConta já existe, tente outra\u001b[39m\u001b[38;5;124m\"\u001b[39m)\n",
      "File \u001b[1;32m~\\AppData\\Roaming\\Python\\Python310\\site-packages\\ipykernel\\kernelbase.py:1282\u001b[0m, in \u001b[0;36mKernel.raw_input\u001b[1;34m(self, prompt)\u001b[0m\n\u001b[0;32m   1280\u001b[0m     msg \u001b[38;5;241m=\u001b[39m \u001b[38;5;124m\"\u001b[39m\u001b[38;5;124mraw_input was called, but this frontend does not support input requests.\u001b[39m\u001b[38;5;124m\"\u001b[39m\n\u001b[0;32m   1281\u001b[0m     \u001b[38;5;28;01mraise\u001b[39;00m StdinNotImplementedError(msg)\n\u001b[1;32m-> 1282\u001b[0m \u001b[38;5;28;01mreturn\u001b[39;00m \u001b[38;5;28;43mself\u001b[39;49m\u001b[38;5;241;43m.\u001b[39;49m\u001b[43m_input_request\u001b[49m\u001b[43m(\u001b[49m\n\u001b[0;32m   1283\u001b[0m \u001b[43m    \u001b[49m\u001b[38;5;28;43mstr\u001b[39;49m\u001b[43m(\u001b[49m\u001b[43mprompt\u001b[49m\u001b[43m)\u001b[49m\u001b[43m,\u001b[49m\n\u001b[0;32m   1284\u001b[0m \u001b[43m    \u001b[49m\u001b[38;5;28;43mself\u001b[39;49m\u001b[38;5;241;43m.\u001b[39;49m\u001b[43m_parent_ident\u001b[49m\u001b[43m[\u001b[49m\u001b[38;5;124;43m\"\u001b[39;49m\u001b[38;5;124;43mshell\u001b[39;49m\u001b[38;5;124;43m\"\u001b[39;49m\u001b[43m]\u001b[49m\u001b[43m,\u001b[49m\n\u001b[0;32m   1285\u001b[0m \u001b[43m    \u001b[49m\u001b[38;5;28;43mself\u001b[39;49m\u001b[38;5;241;43m.\u001b[39;49m\u001b[43mget_parent\u001b[49m\u001b[43m(\u001b[49m\u001b[38;5;124;43m\"\u001b[39;49m\u001b[38;5;124;43mshell\u001b[39;49m\u001b[38;5;124;43m\"\u001b[39;49m\u001b[43m)\u001b[49m\u001b[43m,\u001b[49m\n\u001b[0;32m   1286\u001b[0m \u001b[43m    \u001b[49m\u001b[43mpassword\u001b[49m\u001b[38;5;241;43m=\u001b[39;49m\u001b[38;5;28;43;01mFalse\u001b[39;49;00m\u001b[43m,\u001b[49m\n\u001b[0;32m   1287\u001b[0m \u001b[43m\u001b[49m\u001b[43m)\u001b[49m\n",
      "File \u001b[1;32m~\\AppData\\Roaming\\Python\\Python310\\site-packages\\ipykernel\\kernelbase.py:1325\u001b[0m, in \u001b[0;36mKernel._input_request\u001b[1;34m(self, prompt, ident, parent, password)\u001b[0m\n\u001b[0;32m   1322\u001b[0m \u001b[38;5;28;01mexcept\u001b[39;00m \u001b[38;5;167;01mKeyboardInterrupt\u001b[39;00m:\n\u001b[0;32m   1323\u001b[0m     \u001b[38;5;66;03m# re-raise KeyboardInterrupt, to truncate traceback\u001b[39;00m\n\u001b[0;32m   1324\u001b[0m     msg \u001b[38;5;241m=\u001b[39m \u001b[38;5;124m\"\u001b[39m\u001b[38;5;124mInterrupted by user\u001b[39m\u001b[38;5;124m\"\u001b[39m\n\u001b[1;32m-> 1325\u001b[0m     \u001b[38;5;28;01mraise\u001b[39;00m \u001b[38;5;167;01mKeyboardInterrupt\u001b[39;00m(msg) \u001b[38;5;28;01mfrom\u001b[39;00m \u001b[38;5;28;01mNone\u001b[39;00m\n\u001b[0;32m   1326\u001b[0m \u001b[38;5;28;01mexcept\u001b[39;00m \u001b[38;5;167;01mException\u001b[39;00m:\n\u001b[0;32m   1327\u001b[0m     \u001b[38;5;28mself\u001b[39m\u001b[38;5;241m.\u001b[39mlog\u001b[38;5;241m.\u001b[39mwarning(\u001b[38;5;124m\"\u001b[39m\u001b[38;5;124mInvalid Message:\u001b[39m\u001b[38;5;124m\"\u001b[39m, exc_info\u001b[38;5;241m=\u001b[39m\u001b[38;5;28;01mTrue\u001b[39;00m)\n",
      "\u001b[1;31mKeyboardInterrupt\u001b[0m: Interrupted by user"
     ]
    }
   ],
   "source": [
    "nums_accs = []\n",
    "saldos = {}\n",
    "# Criar contas e saldos\n",
    "for _ in range(10):\n",
    "    while True:\n",
    "        try:\n",
    "            num_acc = int(input(\"Digite sua conta: \"))\n",
    "            if num_acc in saldos:\n",
    "                print(\"Conta já existe, tente outra\")\n",
    "            else:\n",
    "                saldo = int(input(\"Digite o quanto de dinheiro possui: \"))\n",
    "                saldos[num_acc] = saldo\n",
    "                break\n",
    "        except ValueError:\n",
    "            print(\"Por favor, digite um número válido.\")\n",
    "while True:\n",
    "    print(\"---\" * 12)\n",
    "    print(\"O que deseja fazer?\")\n",
    "    print(\"1 - Depositar\")\n",
    "    print(\"2 - Sacar\")\n",
    "    print(\"3 - Verificar saldo total\")\n",
    "    print(\"4 - Sair\")\n",
    "    print(\"---\" * 12)\n",
    "    try:\n",
    "        op = int(input(\"Digite a opção desejada: \"))   \n",
    "        if op == 1:\n",
    "            acc = int(input(\"Digite a conta que deseja depositar: \"))\n",
    "            if acc in saldos:\n",
    "                valor = int(input(\"Qual o valor: \"))\n",
    "                if valor > 0:\n",
    "                    saldos[acc] += valor\n",
    "                else:\n",
    "                    print(\"O valor do depósito deve ser positivo.\")\n",
    "            else:\n",
    "                print(\"Conta não encontrada.\")\n",
    "        \n",
    "        elif op == 2:\n",
    "            acc = int(input(\"Digite a conta que deseja sacar: \"))\n",
    "            if acc in saldos:\n",
    "                valor = int(input(\"Qual o valor: \"))\n",
    "                if valor > 0:\n",
    "                    if valor <= saldos[acc]:\n",
    "                        saldos[acc] -= valor\n",
    "                    else:\n",
    "                        print(\"Você não tem dinheiro suficiente.\")\n",
    "                else:\n",
    "                    print(\"O valor do saque deve ser positivo.\")\n",
    "            else:\n",
    "                print(\"Conta não encontrada.\")\n",
    "        \n",
    "        elif op == 3:\n",
    "            print(\"Saldos: \", saldos)\n",
    "        \n",
    "        elif op == 4:\n",
    "            print(\"Obrigado por usar o sistema\")\n",
    "            break\n",
    "        \n",
    "        else:\n",
    "            print(\"Opção inválida.\")\n",
    "    \n",
    "    except ValueError:\n",
    "        print(\"Por favor, digite um número válido.\")\n",
    "    \n",
    "    print(saldos)\n"
   ]
  }
 ],
 "metadata": {
  "kernelspec": {
   "display_name": "Python 3",
   "language": "python",
   "name": "python3"
  },
  "language_info": {
   "codemirror_mode": {
    "name": "ipython",
    "version": 3
   },
   "file_extension": ".py",
   "mimetype": "text/x-python",
   "name": "python",
   "nbconvert_exporter": "python",
   "pygments_lexer": "ipython3",
   "version": "3.11.9"
  }
 },
 "nbformat": 4,
 "nbformat_minor": 2
}

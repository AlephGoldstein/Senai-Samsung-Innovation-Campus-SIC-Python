{
 "cells": [
  {
   "cell_type": "code",
   "execution_count": 7,
   "metadata": {},
   "outputs": [
    {
     "name": "stdout",
     "output_type": "stream",
     "text": [
      "------------------------------------\n",
      "O que deseja fazer?\n",
      "1 - Depositar\n",
      "2 - Sacar\n",
      "3 - Verificar saldo total\n",
      "4 - Sair\n",
      "------------------------------------\n",
      "Qual o valor: \n"
     ]
    },
    {
     "ename": "TypeError",
     "evalue": "'>' not supported between instances of 'NoneType' and 'int'",
     "output_type": "error",
     "traceback": [
      "\u001b[1;31m---------------------------------------------------------------------------\u001b[0m",
      "\u001b[1;31mTypeError\u001b[0m                                 Traceback (most recent call last)",
      "Cell \u001b[1;32mIn[7], line 22\u001b[0m\n\u001b[0;32m     20\u001b[0m \u001b[38;5;28;01mif\u001b[39;00m acc \u001b[38;5;129;01min\u001b[39;00m nums_accs:\n\u001b[0;32m     21\u001b[0m     valor \u001b[38;5;241m=\u001b[39m \u001b[38;5;28mprint\u001b[39m(\u001b[38;5;124m\"\u001b[39m\u001b[38;5;124mQual o valor: \u001b[39m\u001b[38;5;124m\"\u001b[39m)\n\u001b[1;32m---> 22\u001b[0m     \u001b[38;5;28;01mif\u001b[39;00m \u001b[43mvalor\u001b[49m\u001b[43m \u001b[49m\u001b[38;5;241;43m>\u001b[39;49m\u001b[43m \u001b[49m\u001b[38;5;241;43m0\u001b[39;49m:\n\u001b[0;32m     23\u001b[0m         saldos[nums_accs\u001b[38;5;241m.\u001b[39mindex(acc)] \u001b[38;5;241m+\u001b[39m\u001b[38;5;241m=\u001b[39m valor\n\u001b[0;32m     24\u001b[0m \u001b[38;5;28;01melse\u001b[39;00m:\n",
      "\u001b[1;31mTypeError\u001b[0m: '>' not supported between instances of 'NoneType' and 'int'"
     ]
    }
   ],
   "source": [
    "nums_accs,saldos = [],[]\n",
    "for i in range(1):\n",
    "    num_acc = int(input(\"Digite sua conta: \"))\n",
    "    saldo = int(input(\"Digite o quanto de dinheiro possui: \"))\n",
    "    saldos.append(saldo)\n",
    "    while num_acc in nums_accs:\n",
    "        print(\"Conta já existe, tente outra\")\n",
    "        num_acc = int(input(\"Digite sua conta: \")) \n",
    "    nums_accs.append(num_acc)\n",
    "print(\"---\"*12)\n",
    "print(\"O que deseja fazer?\")\n",
    "print(\"1 - Depositar\")\n",
    "print(\"2 - Sacar\")\n",
    "print(\"3 - Verificar saldo total\")\n",
    "print(\"4 - Sair\")\n",
    "print(\"---\"*12)\n",
    "op = int(input(\"Digite a opção desejada: \"))\n",
    "if op == 1:\n",
    "    acc = int(input(\"Digite a conta que deseja depositar:\"))\n",
    "    if acc in nums_accs:\n",
    "        valor = print(\"Qual o valor: \")\n",
    "        if valor > 0:\n",
    "            saldos[1] += valor\n",
    "    else:\n",
    "        print(\"Conta não encontrada\")\n",
    "\n"
   ]
  }
 ],
 "metadata": {
  "kernelspec": {
   "display_name": "Python 3",
   "language": "python",
   "name": "python3"
  },
  "language_info": {
   "codemirror_mode": {
    "name": "ipython",
    "version": 3
   },
   "file_extension": ".py",
   "mimetype": "text/x-python",
   "name": "python",
   "nbconvert_exporter": "python",
   "pygments_lexer": "ipython3",
   "version": "3.10.4"
  }
 },
 "nbformat": 4,
 "nbformat_minor": 2
}

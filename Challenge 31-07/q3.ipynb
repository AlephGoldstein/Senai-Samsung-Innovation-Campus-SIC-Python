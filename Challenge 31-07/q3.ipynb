{
 "cells": [
  {
   "cell_type": "code",
   "execution_count": 4,
   "metadata": {},
   "outputs": [
    {
     "name": "stdout",
     "output_type": "stream",
     "text": [
      "Conta já existe\n",
      "Conta já existe\n",
      "Conta já existe\n",
      "Conta já existe\n",
      "Conta já existe\n",
      "[123, 145, 26] [123, 123, 134]\n"
     ]
    }
   ],
   "source": [
    "nums_accs,saldos = [],[]\n",
    "for i in range(3):\n",
    "    num_acc = int(input(\"Digite sua conta: \"))\n",
    "    saldo = int(input(\"Digite o quanto de dinheiro possui: \"))\n",
    "    saldos.append(saldo)\n",
    "    while num_acc in nums_accs:\n",
    "        print(\"Conta já existe, tente outra\")\n",
    "        num_acc = int(input(\"Digite sua conta: \")) \n",
    "    nums_accs.append(num_acc)\n",
    "print(nums_accs,saldos)\n",
    "\n"
   ]
  }
 ],
 "metadata": {
  "kernelspec": {
   "display_name": "Python 3",
   "language": "python",
   "name": "python3"
  },
  "language_info": {
   "codemirror_mode": {
    "name": "ipython",
    "version": 3
   },
   "file_extension": ".py",
   "mimetype": "text/x-python",
   "name": "python",
   "nbconvert_exporter": "python",
   "pygments_lexer": "ipython3",
   "version": "3.10.4"
  }
 },
 "nbformat": 4,
 "nbformat_minor": 2
}

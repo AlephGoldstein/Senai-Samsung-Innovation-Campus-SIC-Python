{
 "cells": [
  {
   "cell_type": "code",
   "execution_count": 7,
   "metadata": {},
   "outputs": [
    {
     "name": "stdout",
     "output_type": "stream",
     "text": [
      "Abaixo do peso 3.1\n"
     ]
    }
   ],
   "source": [
    "peso = float(input(\"Qual o seu peso?\"))\n",
    "altura = float(input(\"Qual sua altura? \"))\n",
    "imc = peso / (altura **2)\n",
    "if imc < 18.5:\n",
    "    print(f\"Abaixo do peso {imc:.2}\")\n",
    "elif imc >= 18.5 and imc < 25:\n",
    "    print(f\"Peso ideal {imc:.2}\")\n",
    "elif imc >= 25 and imc < 30:\n",
    "    print(f\"Sobrepeso {imc:.2}\")\n",
    "else:\n",
    "    print(f\"Obesidade {imc:.2}\")"
   ]
  }
 ],
 "metadata": {
  "kernelspec": {
   "display_name": "Python 3",
   "language": "python",
   "name": "python3"
  },
  "language_info": {
   "codemirror_mode": {
    "name": "ipython",
    "version": 3
   },
   "file_extension": ".py",
   "mimetype": "text/x-python",
   "name": "python",
   "nbconvert_exporter": "python",
   "pygments_lexer": "ipython3",
   "version": "3.10.4"
  }
 },
 "nbformat": 4,
 "nbformat_minor": 2
}

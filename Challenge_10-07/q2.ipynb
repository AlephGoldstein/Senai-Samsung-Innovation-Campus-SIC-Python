{
 "cells": [
  {
   "cell_type": "code",
   "execution_count": 23,
   "metadata": {},
   "outputs": [
    {
     "name": "stdout",
     "output_type": "stream",
     "text": [
      "O maior numero é:  1546.0 e os outros são [3.0, 12.0, 1546.0]\n"
     ]
    }
   ],
   "source": [
    "I = int(input(\"Digite um numero inteiro:\"))\n",
    "A = float(input(\"Digite um numero float:\"))\n",
    "B = float(input(\"Digite um numero float:\"))\n",
    "C = float(input(\"Digite um numero float:\"))\n",
    "list = [A,B,C]\n",
    "if I == 1:\n",
    "    maior = 0\n",
    "    result = []\n",
    "    for i in list:\n",
    "        if not result or i > result[-1]:\n",
    "            maior = i\n",
    "            result.append(i)        \n",
    "        else:\n",
    "            result.insert(0,i)\n",
    "    print(\"O maior numero é: \", maior, \"e os outros são\", result)\n",
    "elif I == 2:\n",
    "    maior = 0\n",
    "    result = []\n",
    "    for t in list:\n",
    "        if not result or t < result[-1]:\n",
    "            maior = t\n",
    "            result.append(t)        \n",
    "        else:\n",
    "            result.insert(0,t)\n",
    "    print(\"O maior numero é: \", maior, \"e os outros são\", result)\n",
    "elif I == 3:\n",
    "    maior = 0\n",
    "    menor = 0\n",
    "    result = []\n",
    "    for c in list:\n",
    "        if c > maior or c > result[-1]:\n",
    "            result.insert(1,c)\n",
    "            maior = c\n",
    "        elif c < maior or c < result[-1]:\n",
    "            result.insert(0,c)\n",
    "            menor = c\n",
    "        else:\n",
    "            result.append(c)\n",
    "    print(\"O maior numero é: \", maior, \"e os outros são\", result)\n",
    "else:\n",
    "    print(\"Opção invalida\")\n",
    "        \n",
    "        "
   ]
  },
  {
   "cell_type": "code",
   "execution_count": null,
   "metadata": {},
   "outputs": [],
   "source": []
  }
 ],
 "metadata": {
  "kernelspec": {
   "display_name": "Python 3",
   "language": "python",
   "name": "python3"
  },
  "language_info": {
   "codemirror_mode": {
    "name": "ipython",
    "version": 3
   },
   "file_extension": ".py",
   "mimetype": "text/x-python",
   "name": "python",
   "nbconvert_exporter": "python",
   "pygments_lexer": "ipython3",
   "version": "3.10.4"
  }
 },
 "nbformat": 4,
 "nbformat_minor": 2
}

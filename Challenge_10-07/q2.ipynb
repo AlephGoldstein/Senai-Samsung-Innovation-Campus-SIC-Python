{
 "cells": [
  {
   "cell_type": "code",
   "execution_count": 42,
   "metadata": {},
   "outputs": [
    {
     "name": "stdout",
     "output_type": "stream",
     "text": [
      "O maior número é: 2226.0 e os outros são [1215.0, 2226.0, 21.0]\n"
     ]
    }
   ],
   "source": [
    "I = int(input(\"Digite um número inteiro: \"))\n",
    "A = float(input(\"Digite um número float: \"))\n",
    "B = float(input(\"Digite um número float: \"))\n",
    "C = float(input(\"Digite um número float: \"))\n",
    "\n",
    "num_list = [A, B, C]\n",
    "\n",
    "if I == 1:\n",
    "    maior = max(num_list)\n",
    "    result = sorted(num_list)\n",
    "    print(\"O maior número é:\", maior, \"e os outros são\", result)\n",
    "elif I == 2:\n",
    "    menor = min(num_list)\n",
    "    result = sorted(num_list, reverse=True)\n",
    "    print(\"O menor número é:\", menor, \"e os outros são\", result)\n",
    "elif I == 3:\n",
    "    maior = max(num_list)\n",
    "    num_list.remove(maior)\n",
    "    num_list.insert(1, maior)\n",
    "    print(\"O maior número é:\", maior, \"e os outros são\", num_list)\n",
    "else:\n",
    "    print(\"Opção inválida\")\n"
   ]
  },
  {
   "cell_type": "code",
   "execution_count": null,
   "metadata": {},
   "outputs": [],
   "source": []
  }
 ],
 "metadata": {
  "kernelspec": {
   "display_name": "Python 3",
   "language": "python",
   "name": "python3"
  },
  "language_info": {
   "codemirror_mode": {
    "name": "ipython",
    "version": 3
   },
   "file_extension": ".py",
   "mimetype": "text/x-python",
   "name": "python",
   "nbconvert_exporter": "python",
   "pygments_lexer": "ipython3",
   "version": "3.10.4"
  }
 },
 "nbformat": 4,
 "nbformat_minor": 2
}

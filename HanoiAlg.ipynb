{
 "cells": [
  {
   "cell_type": "code",
   "execution_count": null,
   "metadata": {},
   "outputs": [],
   "source": [
    "def hanoi(m, from_, to_, via_): \n",
    "    if n == 1:\n",
    "        print(\"numero {}, {} -> {}\".format(n,from_,to_))\n",
    "    else:\n",
    "        hanoi(n-1, from_, via_, to_)\n",
    "        print(\"numero {}, {} -> {}\".format(n,from_,to_))\n",
    "        hanoi(n-1, via_, to_, from_)\n",
    "\n",
    "n = int(input(\"Digite o numero de discos: \"))\n",
    "hanoi(n, 'A', 'C', 'B')\n",
    "    "
   ]
  },
  {
   "cell_type": "code",
   "execution_count": null,
   "metadata": {},
   "outputs": [],
   "source": []
  }
 ],
 "metadata": {
  "language_info": {
   "name": "python"
  }
 },
 "nbformat": 4,
 "nbformat_minor": 2
}

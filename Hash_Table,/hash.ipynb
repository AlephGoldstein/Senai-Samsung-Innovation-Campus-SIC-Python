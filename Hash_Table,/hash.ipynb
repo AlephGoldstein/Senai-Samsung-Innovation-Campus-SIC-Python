{
 "cells": [
  {
   "cell_type": "code",
   "execution_count": 8,
   "metadata": {},
   "outputs": [],
   "source": [
    "#Hash Table\n",
    "\n",
    "class TabelaHash:\n",
    "    def __init__(self,size):\n",
    "        self.size = size\n",
    "        self.table = [None]*size\n",
    "    def hash_function(self, key):\n",
    "        return sum(ord(char) for char in key) % self.size\n",
    "    def inserir(self,key,valor):\n",
    "        indice = self.hash_function(key)\n",
    "        if self.table[indice] is None:\n",
    "            self.table[indice] = [(key,valor)]\n",
    "        else:\n",
    "            self.table[indice].append((key,valor))\n",
    "    def busca(self,key):\n",
    "        indice = self.hash_function(key)\n",
    "        if self.table[indice] is not None:\n",
    "            for sk in self.table[indice]:\n",
    "                if sk[0] == key:    \n",
    "                    return sk[1]\n",
    "        return None\n"
   ]
  },
  {
   "cell_type": "code",
   "execution_count": 12,
   "metadata": {},
   "outputs": [
    {
     "name": "stdout",
     "output_type": "stream",
     "text": [
      "125364\n"
     ]
    }
   ],
   "source": [
    "TabelaHas = TabelaHash(10)\n",
    "TabelaHas.inserir(\"Maria\",125364)\n",
    "TabelaHas.inserir(\"Thomas\",154126)\n",
    "TabelaHas.inserir(\"Dale\",151626265)\n",
    "print(TabelaHas.busca(\"Maria\"))\n"
   ]
  }
 ],
 "metadata": {
  "interpreter": {
   "hash": "369f2c481f4da34e4445cda3fffd2e751bd1c4d706f27375911949ba6bb62e1c"
  },
  "kernelspec": {
   "display_name": "Python 3.10.4 64-bit",
   "language": "python",
   "name": "python3"
  },
  "language_info": {
   "codemirror_mode": {
    "name": "ipython",
    "version": 3
   },
   "file_extension": ".py",
   "mimetype": "text/x-python",
   "name": "python",
   "nbconvert_exporter": "python",
   "pygments_lexer": "ipython3",
   "version": "3.10.4"
  },
  "orig_nbformat": 4
 },
 "nbformat": 4,
 "nbformat_minor": 2
}

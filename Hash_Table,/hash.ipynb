{
 "cells": [
  {
   "cell_type": "code",
   "execution_count": null,
   "metadata": {},
   "outputs": [],
   "source": [
    "#Hash Table\n",
    "\n",
    "class TabelaHash:\n",
    "    def __init__(self,size):\n",
    "        self.size = size\n",
    "        self.table = [None]*size\n",
    "    def hash_function(self, key):\n",
    "        return sum(ord(char) for char in key) % self.size\n",
    "    def inserir(self,key,valor):\n",
    "        index = self.hash_function(key)\n",
    "        if self.table[indice] is None:\n",
    "            self.table[indice] = [(key,valor)]\n",
    "        else:\n",
    "            self.table[indice].append((key,valor))\n",
    "    def busca(self,key):\n",
    "        indice = self.hash_function(key)\n",
    "        if self.table[indice] is not None:\n",
    "            for sk in self.table[indice]:\n",
    "                if sk[0] == key:\n",
    "                    return sk[1]\n",
    "        return None\n"
   ]
  }
 ],
 "metadata": {
  "language_info": {
   "name": "python"
  },
  "orig_nbformat": 4
 },
 "nbformat": 4,
 "nbformat_minor": 2
}

{
 "cells": [
  {
   "cell_type": "code",
   "execution_count": 9,
   "metadata": {},
   "outputs": [
    {
     "name": "stdout",
     "output_type": "stream",
     "text": [
      "3\n",
      "2024\n",
      "7\n",
      "21\n"
     ]
    }
   ],
   "source": [
    "from datetime import datetime\n",
    "x = datetime.now()\n",
    "print(x.day)\n",
    "print(x.year)\n",
    "print(x.month)"
   ]
  },
  {
   "cell_type": "code",
   "execution_count": 2,
   "id": "126d077d",
   "metadata": {},
   "outputs": [
    {
     "name": "stdout",
     "output_type": "stream",
     "text": [
      "-100 é negativo\n"
     ]
    }
   ],
   "source": [
    "num = -100\n",
    "if num < 0:\n",
    " print (num, \"é negativo\")\n",
    "else:\n",
    " print (num, \"não é negativo\")\n",
    " if num % 2 == 0:\n",
    "  print (num, \"é um número par\")\n",
    " else:\n",
    "  print (num, \"é um número ímpar\")"
   ]
  }
 ],
 "metadata": {
  "kernelspec": {
   "display_name": "Python 3",
   "language": "python",
   "name": "python3"
  },
  "language_info": {
   "codemirror_mode": {
    "name": "ipython",
    "version": 3
   },
   "file_extension": ".py",
   "mimetype": "text/x-python",
   "name": "python",
   "nbconvert_exporter": "python",
   "pygments_lexer": "ipython3",
   "version": "3.10.4"
  }
 },
 "nbformat": 4,
 "nbformat_minor": 5
}

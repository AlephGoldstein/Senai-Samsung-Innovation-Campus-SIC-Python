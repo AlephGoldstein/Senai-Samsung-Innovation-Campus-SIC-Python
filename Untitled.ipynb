{
 "cells": [
  {
   "cell_type": "code",
   "execution_count": 9,
   "metadata": {},
   "outputs": [
    {
     "name": "stdout",
     "output_type": "stream",
     "text": [
      "3\n",
      "2024\n",
      "7\n",
      "21\n"
     ]
    }
   ],
   "source": [
    "from datetime import datetime\n",
    "x = datetime.now()\n",
    "print(x.day)\n",
    "print(x.year)\n",
    "print(x.month)\n",
    "print(x.minute)"
   ]
  },
  {
   "cell_type": "code",
   "execution_count": 2,
   "id": "126d077d",
   "metadata": {},
   "outputs": [
    {
     "name": "stdout",
     "output_type": "stream",
     "text": [
      "-100 é negativo\n"
     ]
    }
   ],
   "source": [
    "num = -100\n",
    "if num < 0:\n",
    " print (num, \"é negativo\")\n",
    "else:\n",
    " print (num, \"não é negativo\")\n",
    " if num % 2 == 0:\n",
    "  print (num, \"é um número par\")\n",
    " else:\n",
    "  print (num, \"é um número ímpar\")"
   ]
  },
  {
   "cell_type": "code",
   "execution_count": 7,
   "id": "26e43794",
   "metadata": {},
   "outputs": [
    {
     "name": "stdout",
     "output_type": "stream",
     "text": [
      "************\n",
      "############\n",
      "Seu nome é ds e você reside em sd\n",
      "dale\n"
     ]
    }
   ],
   "source": [
    "print(\"*\"*12)\n",
    "print(\"#\"*12)\n",
    "nome = input(\"Digite seu nome?\")\n",
    "endereço = input(\"Digite seu endereço?\")\n",
    "print(f\"Seu nome é {nome} e você reside em {endereço}\")\n",
    "print(\"dale\")"
   ]
  },
  {
   "cell_type": "code",
   "execution_count": 6,
   "id": "4b82679f",
   "metadata": {},
   "outputs": [
    {
     "name": "stdout",
     "output_type": "stream",
     "text": [
      "False\n",
      "True\n"
     ]
    }
   ],
   "source": [
    "x = 1\n",
    "y = 0\n",
    "print(x > y and x < y)\n",
    "print(y > x or x > y)"
   ]
  }
 ],
 "metadata": {
  "kernelspec": {
   "display_name": "Python 3",
   "language": "python",
   "name": "python3"
  },
  "language_info": {
   "codemirror_mode": {
    "name": "ipython",
    "version": 3
   },
   "file_extension": ".py",
   "mimetype": "text/x-python",
   "name": "python",
   "nbconvert_exporter": "python",
   "pygments_lexer": "ipython3",
   "version": "3.10.4"
  }
 },
 "nbformat": 4,
 "nbformat_minor": 5
}

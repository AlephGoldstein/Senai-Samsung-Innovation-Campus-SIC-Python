{
 "cells": [
  {
   "cell_type": "code",
   "execution_count": 5,
   "metadata": {},
   "outputs": [
    {
     "name": "stdout",
     "output_type": "stream",
     "text": [
      "4 é um número composto.\n",
      "6 é um número composto.\n",
      "8 é um número composto.\n",
      "9 é um número composto.\n",
      "10 é um número composto.\n",
      "12 é um número composto.\n"
     ]
    }
   ],
   "source": [
    "def is_armstrong_number(n):\n",
    "    digits = [int(d) for d in str(n)]\n",
    "    sum_of_cubes = sum(d ** 3 for d in digits)\n",
    "    return n == sum_of_cubes\n",
    "\n",
    "# Encontrar e imprimir todos os números Armstrong de três dígitos\n",
    "armstrong_numbers = []\n",
    "for num in range(100, 1000):\n",
    "    if is_armstrong_number(num):\n",
    "        armstrong_numbers.append(num)\n",
    "\n",
    "print(\"Números Armstrong de três dígitos:\", armstrong_numbers)"
   ]
  }
 ],
 "metadata": {
  "kernelspec": {
   "display_name": "Python 3",
   "language": "python",
   "name": "python3"
  },
  "language_info": {
   "codemirror_mode": {
    "name": "ipython",
    "version": 3
   },
   "file_extension": ".py",
   "mimetype": "text/x-python",
   "name": "python",
   "nbconvert_exporter": "python",
   "pygments_lexer": "ipython3",
   "version": "3.10.4"
  }
 },
 "nbformat": 4,
 "nbformat_minor": 2
}

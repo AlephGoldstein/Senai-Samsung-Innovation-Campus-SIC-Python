{
 "cells": [
  {
   "cell_type": "code",
   "execution_count": null,
   "metadata": {},
   "outputs": [],
   "source": [
    "def ParOrImpar100():\n",
    "    val = int(input('Digte um numero: '))\n",
    "    if val <= 100:\n",
    "        if val % 2 == 0:\n",
    "            print('O numero {} é par'.format(val))\n",
    "        else:\n",
    "            print('O numero {} é impar'.format(val))\n",
    "    else:\n",
    "        print('O numero digitado é maior que 100')\n",
    "ParOrImpar100()"
   ]
  }
 ],
 "metadata": {
  "language_info": {
   "name": "python"
  }
 },
 "nbformat": 4,
 "nbformat_minor": 2
}

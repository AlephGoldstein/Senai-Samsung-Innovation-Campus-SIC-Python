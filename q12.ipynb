{
 "cells": [
  {
   "cell_type": "code",
   "execution_count": null,
   "metadata": {},
   "outputs": [],
   "source": [
    "def isDivFor5():\n",
    "    val = int(input('digite um numero'))\n",
    "    if val % 5 == 0:\n",
    "        print('é divisivel por 5')\n",
    "    else:\n",
    "        print('não é divisivel por 5')\n",
    "isDivFor5()"
   ]
  }
 ],
 "metadata": {
  "language_info": {
   "name": "python"
  }
 },
 "nbformat": 4,
 "nbformat_minor": 2
}

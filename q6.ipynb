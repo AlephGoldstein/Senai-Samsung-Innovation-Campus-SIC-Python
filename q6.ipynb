{
 "cells": [
  {
   "cell_type": "code",
<<<<<<< HEAD
   "execution_count": 4,
=======
   "execution_count": 9,
>>>>>>> 2e398de57a5a9f444dec5d72cdca4da741db0c91
   "metadata": {},
   "outputs": [
    {
     "name": "stdout",
     "output_type": "stream",
     "text": [
<<<<<<< HEAD
      "area do retangulo: 1800\n"
=======
      "A hipotenusa do triângulo é:  5.0\n",
      "A hipotenusa do triângulo é:  5.0\n"
>>>>>>> 2e398de57a5a9f444dec5d72cdca4da741db0c91
     ]
    }
   ],
   "source": [
<<<<<<< HEAD
    "def area(altura,largura):\n",
    "    return altura * largura\n",
    "print('area do retangulo: '+str(area(30,60)))"
=======
    "def pitagoras(altura,base):\n",
    "    hipotenusa = (altura**2 + base**2)**(1/2)\n",
    "    return hipotenusa\n",
    "\n",
    "print(\"A hipotenusa do triângulo é: \",pitagoras(3,4))\n",
    "\n",
    "#ou\n",
    "\n",
    "from math import hypot\n",
    "print(\"A hipotenusa do triângulo é: \",hypot(3,4))"
>>>>>>> 2e398de57a5a9f444dec5d72cdca4da741db0c91
   ]
  },
  {
   "cell_type": "code",
   "execution_count": null,
   "metadata": {},
   "outputs": [],
   "source": []
  }
 ],
 "metadata": {
  "kernelspec": {
   "display_name": "Python 3",
   "language": "python",
   "name": "python3"
  },
  "language_info": {
   "codemirror_mode": {
    "name": "ipython",
    "version": 3
   },
   "file_extension": ".py",
   "mimetype": "text/x-python",
   "name": "python",
   "nbconvert_exporter": "python",
   "pygments_lexer": "ipython3",
<<<<<<< HEAD
   "version": "3.11.9"
=======
   "version": "3.10.4"
>>>>>>> 2e398de57a5a9f444dec5d72cdca4da741db0c91
  }
 },
 "nbformat": 4,
 "nbformat_minor": 2
}

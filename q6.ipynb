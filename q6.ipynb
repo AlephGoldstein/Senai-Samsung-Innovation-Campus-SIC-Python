{
 "cells": [
  {
   "cell_type": "code",
   "execution_count": 9,
   "metadata": {},
   "outputs": [
    {
     "name": "stdout",
     "output_type": "stream",
     "text": [
      "A hipotenusa do triângulo é:  5.0\n",
      "A hipotenusa do triângulo é:  5.0\n"
     ]
    }
   ],
   "source": [
    "def pitagoras(altura,base):\n",
    "    hipotenusa = (altura**2 + base**2)**(1/2)\n",
    "    return hipotenusa\n",
    "\n",
    "print(\"A hipotenusa do triângulo é: \",pitagoras(3,4))\n",
    "\n",
    "#ou\n",
    "\n",
    "from math import hypot\n",
    "print(\"A hipotenusa do triângulo é: \",hypot(3,4))"
   ]
  },
  {
   "cell_type": "code",
   "execution_count": null,
   "metadata": {},
   "outputs": [],
   "source": []
  }
 ],
 "metadata": {
  "kernelspec": {
   "display_name": "Python 3",
   "language": "python",
   "name": "python3"
  },
  "language_info": {
   "codemirror_mode": {
    "name": "ipython",
    "version": 3
   },
   "file_extension": ".py",
   "mimetype": "text/x-python",
   "name": "python",
   "nbconvert_exporter": "python",
   "pygments_lexer": "ipython3",
   "version": "3.10.4"
  }
 },
 "nbformat": 4,
 "nbformat_minor": 2
}

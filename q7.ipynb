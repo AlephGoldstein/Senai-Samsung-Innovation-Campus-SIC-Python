{
 "cells": [
  {
   "cell_type": "code",
   "execution_count": 1,
   "metadata": {},
   "outputs": [
    {
     "name": "stdout",
     "output_type": "stream",
     "text": [
      "The circumference of the circle is: 157.0\n",
      "The area of the circle is: 1962.5\n"
     ]
    }
   ],
   "source": [
    "def Calcradius():\n",
    "    pi = 3.141592 \n",
    "    radius = float(input(\"Enter the radius of the circle: \"))  \n",
    "    circ = 2 * pi * radius\n",
    "    area = pi * radius ** 2\n",
    "    print(\"The circumference of the circle is:\", circ)\n",
    "    print(\"The area of the circle is:\", area)\n",
    "    \n",
    "Calcradius()"
   ]
  },
  {
   "cell_type": "code",
   "execution_count": null,
   "metadata": {},
   "outputs": [],
   "source": []
  }
 ],
 "metadata": {
  "kernelspec": {
   "display_name": "Python 3",
   "language": "python",
   "name": "python3"
  },
  "language_info": {
   "codemirror_mode": {
    "name": "ipython",
    "version": 3
   },
   "file_extension": ".py",
   "mimetype": "text/x-python",
   "name": "python",
   "nbconvert_exporter": "python",
   "pygments_lexer": "ipython3",
   "version": "3.10.4"
  }
 },
 "nbformat": 4,
 "nbformat_minor": 2
}

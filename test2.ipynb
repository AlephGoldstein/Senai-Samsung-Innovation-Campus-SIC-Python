{
 "cells": [
  {
   "cell_type": "code",
   "execution_count": 3,
   "id": "392b7ab6-eb69-41bf-bb77-46efa45a21a3",
   "metadata": {},
   "outputs": [],
   "source": [
    "a = 2"
   ]
  },
  {
   "cell_type": "code",
   "execution_count": 4,
   "id": "71d82809-7643-4e30-9e7e-1610374188e7",
   "metadata": {},
   "outputs": [],
   "source": [
    "b = 4\n",
    "c = 7"
   ]
  },
  {
   "cell_type": "code",
   "execution_count": 5,
   "id": "6e124ac6-4c9c-41d5-83b0-86d0abd3bab5",
   "metadata": {},
   "outputs": [
    {
     "name": "stdout",
     "output_type": "stream",
     "text": [
      "13\n"
     ]
    }
   ],
   "source": [
    "print(a+b+c)"
   ]
  },
  {
   "cell_type": "code",
   "execution_count": null,
   "id": "564f9d71-675b-4de7-bac7-5e34cceb787e",
   "metadata": {},
   "outputs": [],
   "source": []
  }
 ],
 "metadata": {
  "kernelspec": {
   "display_name": "Python 3 (ipykernel)",
   "language": "python",
   "name": "python3"
  },
  "language_info": {
   "codemirror_mode": {
    "name": "ipython",
    "version": 3
   },
   "file_extension": ".py",
   "mimetype": "text/x-python",
   "name": "python",
   "nbconvert_exporter": "python",
   "pygments_lexer": "ipython3",
   "version": "3.11.7"
  }
 },
 "nbformat": 4,
 "nbformat_minor": 5
}
